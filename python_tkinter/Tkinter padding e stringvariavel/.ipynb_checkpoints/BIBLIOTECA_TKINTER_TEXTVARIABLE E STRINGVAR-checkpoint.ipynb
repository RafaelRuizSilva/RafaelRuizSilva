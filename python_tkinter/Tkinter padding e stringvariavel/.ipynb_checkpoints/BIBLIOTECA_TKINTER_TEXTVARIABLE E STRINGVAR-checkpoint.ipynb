{
 "cells": [
  {
   "cell_type": "markdown",
   "id": "de6b72b4",
   "metadata": {},
   "source": [
    "# Texto variável e função StringVar()"
   ]
  },
  {
   "cell_type": "code",
   "execution_count": 27,
   "id": "67e31313",
   "metadata": {},
   "outputs": [],
   "source": [
    "from tkinter import *"
   ]
  },
  {
   "cell_type": "code",
   "execution_count": 28,
   "id": "25927e04",
   "metadata": {},
   "outputs": [],
   "source": [
    "menu_inicial = Tk()"
   ]
  },
  {
   "cell_type": "code",
   "execution_count": 29,
   "id": "5013a49d",
   "metadata": {},
   "outputs": [
    {
     "data": {
      "text/plain": [
       "''"
      ]
     },
     "execution_count": 29,
     "metadata": {},
     "output_type": "execute_result"
    }
   ],
   "source": [
    "menu_inicial.title('Textvariable e StringVar')"
   ]
  },
  {
   "cell_type": "code",
   "execution_count": 30,
   "id": "c7449d9c",
   "metadata": {},
   "outputs": [
    {
     "data": {
      "text/plain": [
       "''"
      ]
     },
     "execution_count": 30,
     "metadata": {},
     "output_type": "execute_result"
    }
   ],
   "source": [
    "menu_inicial.geometry('500x300')"
   ]
  },
  {
   "cell_type": "code",
   "execution_count": 31,
   "id": "a031a57f",
   "metadata": {},
   "outputs": [],
   "source": [
    "#Criando uma string variável\n",
    "texto = StringVar()"
   ]
  },
  {
   "cell_type": "code",
   "execution_count": 32,
   "id": "26881bfc",
   "metadata": {},
   "outputs": [],
   "source": [
    "#Setando novo texto\n",
    "texto.set('NovoTexto')"
   ]
  },
  {
   "cell_type": "code",
   "execution_count": 33,
   "id": "b22213f3",
   "metadata": {},
   "outputs": [],
   "source": [
    "label_1 = Label(menu_inicial,\n",
    "                font = 'Arial 20',\n",
    "                bg = 'red',\n",
    "                fg = 'white',\n",
    "                textvariable = texto)"
   ]
  },
  {
   "cell_type": "code",
   "execution_count": 34,
   "id": "c4eed06f",
   "metadata": {},
   "outputs": [],
   "source": [
    "label_1.pack()"
   ]
  },
  {
   "cell_type": "markdown",
   "id": "b26a726a",
   "metadata": {},
   "source": [
    "## Vantagem de usar textvariable é poder mudá-lo posteriormente no código exemplo:"
   ]
  },
  {
   "cell_type": "code",
   "execution_count": 35,
   "id": "c451caf5",
   "metadata": {},
   "outputs": [],
   "source": [
    "texto.set('Texto alterado')"
   ]
  },
  {
   "cell_type": "code",
   "execution_count": 36,
   "id": "9a40cf87",
   "metadata": {},
   "outputs": [],
   "source": [
    "menu_inicial.mainloop()"
   ]
  }
 ],
 "metadata": {
  "kernelspec": {
   "display_name": "Python 3 (ipykernel)",
   "language": "python",
   "name": "python3"
  },
  "language_info": {
   "codemirror_mode": {
    "name": "ipython",
    "version": 3
   },
   "file_extension": ".py",
   "mimetype": "text/x-python",
   "name": "python",
   "nbconvert_exporter": "python",
   "pygments_lexer": "ipython3",
   "version": "3.9.7"
  }
 },
 "nbformat": 4,
 "nbformat_minor": 5
}
