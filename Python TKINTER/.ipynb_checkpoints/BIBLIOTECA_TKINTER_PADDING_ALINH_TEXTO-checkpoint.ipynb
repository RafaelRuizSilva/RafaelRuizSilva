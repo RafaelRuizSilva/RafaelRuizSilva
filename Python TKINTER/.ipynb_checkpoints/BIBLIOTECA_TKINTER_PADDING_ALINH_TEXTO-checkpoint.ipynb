{
 "cells": [
  {
   "cell_type": "markdown",
   "id": "963178e6",
   "metadata": {},
   "source": [
    "# PADDING E JUSTIFICAÇÃO DE TEXTOS (LABEL)"
   ]
  },
  {
   "cell_type": "code",
   "execution_count": 400,
   "id": "ff3b4acb",
   "metadata": {},
   "outputs": [],
   "source": [
    "from tkinter import *"
   ]
  },
  {
   "cell_type": "code",
   "execution_count": 401,
   "id": "89ef39ec",
   "metadata": {},
   "outputs": [],
   "source": [
    "menu_inicial = Tk()"
   ]
  },
  {
   "cell_type": "code",
   "execution_count": 402,
   "id": "31338e98",
   "metadata": {},
   "outputs": [
    {
     "data": {
      "text/plain": [
       "''"
      ]
     },
     "execution_count": 402,
     "metadata": {},
     "output_type": "execute_result"
    }
   ],
   "source": [
    "menu_inicial.title('PADDING E JUSTIFICAÇÃO DE TEXTO')"
   ]
  },
  {
   "cell_type": "code",
   "execution_count": 403,
   "id": "cd70c3a6",
   "metadata": {},
   "outputs": [
    {
     "data": {
      "text/plain": [
       "''"
      ]
     },
     "execution_count": 403,
     "metadata": {},
     "output_type": "execute_result"
    }
   ],
   "source": [
    "menu_inicial.geometry('600x400')"
   ]
  },
  {
   "cell_type": "markdown",
   "id": "5f9caa12",
   "metadata": {},
   "source": [
    "## Parâmetros para o label\n",
    "- **padx** = Define uma distância para os lados do eixo x\n",
    "- **pady** = Define uma distância para os lados do eixo y\n",
    "- **justify** =  Alinha todo o texto para [CENTER, RIGHT, LEFT]"
   ]
  },
  {
   "cell_type": "code",
   "execution_count": 404,
   "id": "f2edf13d",
   "metadata": {},
   "outputs": [],
   "source": [
    "#Utilizando Padding\n",
    "label_1 = Label(menu_inicial,\n",
    "                text = 'Frase de teste',\n",
    "                font = 'Arial 15',\n",
    "                bd = 1,\n",
    "                relief = 'solid',\n",
    "                padx = 50,\n",
    "                pady = 50)"
   ]
  },
  {
   "cell_type": "code",
   "execution_count": 405,
   "id": "66b80cb8",
   "metadata": {},
   "outputs": [],
   "source": [
    "#Utilizando justify\n",
    "label_2 = Label(menu_inicial,\n",
    "                text = 'Frase de teste\\nOutra frase TESTE\\nultima frase',\n",
    "                font = 'Arial 15',\n",
    "                bd = 1,\n",
    "                relief = 'solid',\n",
    "                padx = 20,\n",
    "                pady = 10,\n",
    "                justify = LEFT)"
   ]
  },
  {
   "cell_type": "code",
   "execution_count": 406,
   "id": "bb793438",
   "metadata": {},
   "outputs": [],
   "source": [
    "#Aplicando justify com anchor(pontos cardeais)\n",
    "label_3 = Label(menu_inicial,\n",
    "                text = 'Frase de teste\\nTESTE',\n",
    "                font = 'Arial 15',\n",
    "                width = '50',\n",
    "                bd = 1,\n",
    "                relief = 'solid',\n",
    "                justify = LEFT,\n",
    "                anchor = W)"
   ]
  },
  {
   "cell_type": "code",
   "execution_count": 407,
   "id": "d04c57d5",
   "metadata": {},
   "outputs": [],
   "source": [
    "label_1.pack()\n",
    "label_2.pack()\n",
    "label_3.pack()"
   ]
  },
  {
   "cell_type": "code",
   "execution_count": 408,
   "id": "2b7e1528",
   "metadata": {},
   "outputs": [],
   "source": [
    "menu_inicial.mainloop()"
   ]
  }
 ],
 "metadata": {
  "kernelspec": {
   "display_name": "Python 3",
   "language": "python",
   "name": "python3"
  },
  "language_info": {
   "codemirror_mode": {
    "name": "ipython",
    "version": 3
   },
   "file_extension": ".py",
   "mimetype": "text/x-python",
   "name": "python",
   "nbconvert_exporter": "python",
   "pygments_lexer": "ipython3",
   "version": "3.8.8"
  }
 },
 "nbformat": 4,
 "nbformat_minor": 5
}
