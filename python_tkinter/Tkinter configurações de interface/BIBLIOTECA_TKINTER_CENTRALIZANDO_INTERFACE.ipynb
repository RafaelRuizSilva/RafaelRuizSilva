{
 "cells": [
  {
   "cell_type": "markdown",
   "id": "05f258b9",
   "metadata": {},
   "source": [
    "# CENTRALIZANDO A INTERFACE NA SCREEN"
   ]
  },
  {
   "cell_type": "code",
   "execution_count": 1,
   "id": "d8ad8ae5",
   "metadata": {},
   "outputs": [],
   "source": [
    "from tkinter import *"
   ]
  },
  {
   "cell_type": "code",
   "execution_count": 2,
   "id": "e2a26a41",
   "metadata": {},
   "outputs": [],
   "source": [
    "menu_inicial = Tk()"
   ]
  },
  {
   "cell_type": "code",
   "execution_count": 3,
   "id": "9f7feaba",
   "metadata": {},
   "outputs": [
    {
     "data": {
      "text/plain": [
       "''"
      ]
     },
     "execution_count": 3,
     "metadata": {},
     "output_type": "execute_result"
    }
   ],
   "source": [
    "menu_inicial.title('CENTRALIZANDO INTERFACE')"
   ]
  },
  {
   "cell_type": "code",
   "execution_count": 4,
   "id": "aa3611d4",
   "metadata": {},
   "outputs": [],
   "source": [
    "#Dimensões da janela\n",
    "largura = 500\n",
    "altura = 300"
   ]
  },
  {
   "cell_type": "code",
   "execution_count": 5,
   "id": "bf76f6a3",
   "metadata": {},
   "outputs": [],
   "source": [
    "#Resolução do nosso sistema\n",
    "largura_screen = menu_inicial.winfo_screenwidth()\n",
    "altura_screen = menu_inicial.winfo_screenheight()"
   ]
  },
  {
   "cell_type": "code",
   "execution_count": 6,
   "id": "46b89ec2",
   "metadata": {},
   "outputs": [],
   "source": [
    "#Posição janela\n",
    "posx = largura_screen/2 - largura/2\n",
    "posy = altura_screen/2 - altura/2"
   ]
  },
  {
   "cell_type": "code",
   "execution_count": 7,
   "id": "5cc6ebbb",
   "metadata": {},
   "outputs": [
    {
     "data": {
      "text/plain": [
       "''"
      ]
     },
     "execution_count": 7,
     "metadata": {},
     "output_type": "execute_result"
    }
   ],
   "source": [
    "#Definindo nova Geometria\n",
    "menu_inicial.geometry('%dx%d+%d+%d' % (largura, altura, posx, posy))"
   ]
  },
  {
   "cell_type": "code",
   "execution_count": 8,
   "id": "48bc039d",
   "metadata": {},
   "outputs": [],
   "source": [
    "menu_inicial.mainloop()"
   ]
  }
 ],
 "metadata": {
  "kernelspec": {
   "display_name": "Python 3 (ipykernel)",
   "language": "python",
   "name": "python3"
  },
  "language_info": {
   "codemirror_mode": {
    "name": "ipython",
    "version": 3
   },
   "file_extension": ".py",
   "mimetype": "text/x-python",
   "name": "python",
   "nbconvert_exporter": "python",
   "pygments_lexer": "ipython3",
   "version": "3.9.7"
  }
 },
 "nbformat": 4,
 "nbformat_minor": 5
}
