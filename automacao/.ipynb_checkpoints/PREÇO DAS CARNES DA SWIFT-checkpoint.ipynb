{
 "cells": [
  {
   "cell_type": "code",
   "execution_count": 1,
   "id": "cc56a9cd",
   "metadata": {},
   "outputs": [],
   "source": [
    "from selenium import webdriver\n",
    "from selenium.webdriver.common.by import By\n",
    "from selenium.webdriver.common.keys import Keys\n",
    "from selenium.webdriver.common.action_chains import ActionChains\n",
    "from time import sleep\n",
    "import pandas as pd\n",
    "import os"
   ]
  },
  {
   "cell_type": "code",
   "execution_count": 2,
   "id": "4c595cdc",
   "metadata": {},
   "outputs": [],
   "source": [
    "#Navegador chrome\n",
    "nav = webdriver.Chrome()"
   ]
  },
  {
   "cell_type": "code",
   "execution_count": 3,
   "id": "851bee51",
   "metadata": {},
   "outputs": [],
   "source": [
    "mouse = webdriver.ActionChains(nav)"
   ]
  },
  {
   "cell_type": "code",
   "execution_count": 4,
   "id": "c94b18d9",
   "metadata": {},
   "outputs": [],
   "source": [
    "#Entrando no site da swift\n",
    "nav.get('https://www.swift.com.br/?utm_source=rakuten&utm_medium=afiliados&utm_term=3803082&ranMID=46591&ranEAID=B*sIAgSVIF0&ranSiteID=B.sIAgSVIF0-hN.7e8M1GnvJbNh6ledOEw')"
   ]
  },
  {
   "cell_type": "code",
   "execution_count": 5,
   "id": "c3c0f78f",
   "metadata": {},
   "outputs": [],
   "source": [
    "#Aguardando 3 segundos\n",
    "sleep(3)"
   ]
  },
  {
   "cell_type": "markdown",
   "id": "982fcbcd",
   "metadata": {},
   "source": [
    "## Picanha Gold swift"
   ]
  },
  {
   "cell_type": "code",
   "execution_count": 6,
   "id": "8fab9362",
   "metadata": {},
   "outputs": [],
   "source": [
    "#Variáveis com os caminhos de cada div\n",
    "botao_busca = 'btn-open-search'\n",
    "pesquisar = '//*[@id=\"pesquisar\"]'"
   ]
  },
  {
   "cell_type": "code",
   "execution_count": 7,
   "id": "189eb72c",
   "metadata": {},
   "outputs": [
    {
     "name": "stderr",
     "output_type": "stream",
     "text": [
      "C:\\Users\\rafar\\AppData\\Local\\Temp/ipykernel_2108/2187404551.py:2: DeprecationWarning: find_element_by_class_name is deprecated. Please use find_element(by=By.CLASS_NAME, value=name) instead\n",
      "  nav.find_element_by_class_name(botao_busca).click()\n"
     ]
    }
   ],
   "source": [
    "#clicando no botao de busca\n",
    "nav.find_element_by_class_name(botao_busca).click()"
   ]
  },
  {
   "cell_type": "code",
   "execution_count": 8,
   "id": "7f1f977e",
   "metadata": {},
   "outputs": [
    {
     "name": "stderr",
     "output_type": "stream",
     "text": [
      "C:\\Users\\rafar\\AppData\\Local\\Temp/ipykernel_2108/1100341394.py:2: DeprecationWarning: find_element_by_xpath is deprecated. Please use find_element(by=By.XPATH, value=xpath) instead\n",
      "  nav.find_element_by_xpath(pesquisar).send_keys('PICANHA NOBRE')\n"
     ]
    }
   ],
   "source": [
    "#Pesquisando por PICANHA NOBRE\n",
    "nav.find_element_by_xpath(pesquisar).send_keys('PICANHA NOBRE')"
   ]
  },
  {
   "cell_type": "code",
   "execution_count": 9,
   "id": "43922b84",
   "metadata": {},
   "outputs": [],
   "source": [
    "#Aguardando 2 segundos\n",
    "sleep(2)"
   ]
  },
  {
   "cell_type": "code",
   "execution_count": 10,
   "id": "eebb10c7",
   "metadata": {},
   "outputs": [
    {
     "name": "stderr",
     "output_type": "stream",
     "text": [
      "C:\\Users\\rafar\\AppData\\Local\\Temp/ipykernel_2108/975576813.py:2: DeprecationWarning: find_element_by_css_selector is deprecated. Please use find_element(by=By.CSS_SELECTOR, value=css_selector) instead\n",
      "  preco_picanha = nav.find_element_by_css_selector('span.price').text\n"
     ]
    },
    {
     "ename": "NoSuchElementException",
     "evalue": "Message: no such element: Unable to locate element: {\"method\":\"css selector\",\"selector\":\"span.price\"}\n  (Session info: chrome=100.0.4896.88)\nStacktrace:\nBacktrace:\n\tOrdinal0 [0x00D99943+2595139]\n\tOrdinal0 [0x00D2C9F1+2148849]\n\tOrdinal0 [0x00C24528+1066280]\n\tOrdinal0 [0x00C50FD4+1249236]\n\tOrdinal0 [0x00C511CB+1249739]\n\tOrdinal0 [0x00C7D812+1431570]\n\tOrdinal0 [0x00C6BA34+1358388]\n\tOrdinal0 [0x00C7BAF2+1424114]\n\tOrdinal0 [0x00C6B806+1357830]\n\tOrdinal0 [0x00C46086+1204358]\n\tOrdinal0 [0x00C46F96+1208214]\n\tGetHandleVerifier [0x00F3B232+1658114]\n\tGetHandleVerifier [0x00FF312C+2411516]\n\tGetHandleVerifier [0x00E2F261+560433]\n\tGetHandleVerifier [0x00E2E366+556598]\n\tOrdinal0 [0x00D3286B+2173035]\n\tOrdinal0 [0x00D375F8+2192888]\n\tOrdinal0 [0x00D376E5+2193125]\n\tOrdinal0 [0x00D411FC+2232828]\n\tBaseThreadInitThunk [0x77C8FA29+25]\n\tRtlGetAppContainerNamedObjectPath [0x77E67A7E+286]\n\tRtlGetAppContainerNamedObjectPath [0x77E67A4E+238]\n",
     "output_type": "error",
     "traceback": [
      "\u001b[1;31m---------------------------------------------------------------------------\u001b[0m",
      "\u001b[1;31mNoSuchElementException\u001b[0m                    Traceback (most recent call last)",
      "\u001b[1;32m~\\AppData\\Local\\Temp/ipykernel_2108/975576813.py\u001b[0m in \u001b[0;36m<module>\u001b[1;34m\u001b[0m\n\u001b[0;32m      1\u001b[0m \u001b[1;31m#Variável contendo o preço da picanha\u001b[0m\u001b[1;33m\u001b[0m\u001b[1;33m\u001b[0m\u001b[0m\n\u001b[1;32m----> 2\u001b[1;33m \u001b[0mpreco_picanha\u001b[0m \u001b[1;33m=\u001b[0m \u001b[0mnav\u001b[0m\u001b[1;33m.\u001b[0m\u001b[0mfind_element_by_css_selector\u001b[0m\u001b[1;33m(\u001b[0m\u001b[1;34m'span.price'\u001b[0m\u001b[1;33m)\u001b[0m\u001b[1;33m.\u001b[0m\u001b[0mtext\u001b[0m\u001b[1;33m\u001b[0m\u001b[1;33m\u001b[0m\u001b[0m\n\u001b[0m",
      "\u001b[1;32m~\\Anaconda3\\lib\\site-packages\\selenium\\webdriver\\remote\\webdriver.py\u001b[0m in \u001b[0;36mfind_element_by_css_selector\u001b[1;34m(self, css_selector)\u001b[0m\n\u001b[0;32m    807\u001b[0m             \u001b[0mstacklevel\u001b[0m\u001b[1;33m=\u001b[0m\u001b[1;36m2\u001b[0m\u001b[1;33m,\u001b[0m\u001b[1;33m\u001b[0m\u001b[1;33m\u001b[0m\u001b[0m\n\u001b[0;32m    808\u001b[0m         )\n\u001b[1;32m--> 809\u001b[1;33m         \u001b[1;32mreturn\u001b[0m \u001b[0mself\u001b[0m\u001b[1;33m.\u001b[0m\u001b[0mfind_element\u001b[0m\u001b[1;33m(\u001b[0m\u001b[0mby\u001b[0m\u001b[1;33m=\u001b[0m\u001b[0mBy\u001b[0m\u001b[1;33m.\u001b[0m\u001b[0mCSS_SELECTOR\u001b[0m\u001b[1;33m,\u001b[0m \u001b[0mvalue\u001b[0m\u001b[1;33m=\u001b[0m\u001b[0mcss_selector\u001b[0m\u001b[1;33m)\u001b[0m\u001b[1;33m\u001b[0m\u001b[1;33m\u001b[0m\u001b[0m\n\u001b[0m\u001b[0;32m    810\u001b[0m \u001b[1;33m\u001b[0m\u001b[0m\n\u001b[0;32m    811\u001b[0m     \u001b[1;32mdef\u001b[0m \u001b[0mfind_elements_by_css_selector\u001b[0m\u001b[1;33m(\u001b[0m\u001b[0mself\u001b[0m\u001b[1;33m,\u001b[0m \u001b[0mcss_selector\u001b[0m\u001b[1;33m)\u001b[0m \u001b[1;33m->\u001b[0m \u001b[0mList\u001b[0m\u001b[1;33m[\u001b[0m\u001b[0mWebElement\u001b[0m\u001b[1;33m]\u001b[0m\u001b[1;33m:\u001b[0m\u001b[1;33m\u001b[0m\u001b[1;33m\u001b[0m\u001b[0m\n",
      "\u001b[1;32m~\\Anaconda3\\lib\\site-packages\\selenium\\webdriver\\remote\\webdriver.py\u001b[0m in \u001b[0;36mfind_element\u001b[1;34m(self, by, value)\u001b[0m\n\u001b[0;32m   1246\u001b[0m             \u001b[0mvalue\u001b[0m \u001b[1;33m=\u001b[0m \u001b[1;34m'[name=\"%s\"]'\u001b[0m \u001b[1;33m%\u001b[0m \u001b[0mvalue\u001b[0m\u001b[1;33m\u001b[0m\u001b[1;33m\u001b[0m\u001b[0m\n\u001b[0;32m   1247\u001b[0m \u001b[1;33m\u001b[0m\u001b[0m\n\u001b[1;32m-> 1248\u001b[1;33m         return self.execute(Command.FIND_ELEMENT, {\n\u001b[0m\u001b[0;32m   1249\u001b[0m             \u001b[1;34m'using'\u001b[0m\u001b[1;33m:\u001b[0m \u001b[0mby\u001b[0m\u001b[1;33m,\u001b[0m\u001b[1;33m\u001b[0m\u001b[1;33m\u001b[0m\u001b[0m\n\u001b[0;32m   1250\u001b[0m             'value': value})['value']\n",
      "\u001b[1;32m~\\Anaconda3\\lib\\site-packages\\selenium\\webdriver\\remote\\webdriver.py\u001b[0m in \u001b[0;36mexecute\u001b[1;34m(self, driver_command, params)\u001b[0m\n\u001b[0;32m    423\u001b[0m         \u001b[0mresponse\u001b[0m \u001b[1;33m=\u001b[0m \u001b[0mself\u001b[0m\u001b[1;33m.\u001b[0m\u001b[0mcommand_executor\u001b[0m\u001b[1;33m.\u001b[0m\u001b[0mexecute\u001b[0m\u001b[1;33m(\u001b[0m\u001b[0mdriver_command\u001b[0m\u001b[1;33m,\u001b[0m \u001b[0mparams\u001b[0m\u001b[1;33m)\u001b[0m\u001b[1;33m\u001b[0m\u001b[1;33m\u001b[0m\u001b[0m\n\u001b[0;32m    424\u001b[0m         \u001b[1;32mif\u001b[0m \u001b[0mresponse\u001b[0m\u001b[1;33m:\u001b[0m\u001b[1;33m\u001b[0m\u001b[1;33m\u001b[0m\u001b[0m\n\u001b[1;32m--> 425\u001b[1;33m             \u001b[0mself\u001b[0m\u001b[1;33m.\u001b[0m\u001b[0merror_handler\u001b[0m\u001b[1;33m.\u001b[0m\u001b[0mcheck_response\u001b[0m\u001b[1;33m(\u001b[0m\u001b[0mresponse\u001b[0m\u001b[1;33m)\u001b[0m\u001b[1;33m\u001b[0m\u001b[1;33m\u001b[0m\u001b[0m\n\u001b[0m\u001b[0;32m    426\u001b[0m             response['value'] = self._unwrap_value(\n\u001b[0;32m    427\u001b[0m                 response.get('value', None))\n",
      "\u001b[1;32m~\\Anaconda3\\lib\\site-packages\\selenium\\webdriver\\remote\\errorhandler.py\u001b[0m in \u001b[0;36mcheck_response\u001b[1;34m(self, response)\u001b[0m\n\u001b[0;32m    245\u001b[0m                 \u001b[0malert_text\u001b[0m \u001b[1;33m=\u001b[0m \u001b[0mvalue\u001b[0m\u001b[1;33m[\u001b[0m\u001b[1;34m'alert'\u001b[0m\u001b[1;33m]\u001b[0m\u001b[1;33m.\u001b[0m\u001b[0mget\u001b[0m\u001b[1;33m(\u001b[0m\u001b[1;34m'text'\u001b[0m\u001b[1;33m)\u001b[0m\u001b[1;33m\u001b[0m\u001b[1;33m\u001b[0m\u001b[0m\n\u001b[0;32m    246\u001b[0m             \u001b[1;32mraise\u001b[0m \u001b[0mexception_class\u001b[0m\u001b[1;33m(\u001b[0m\u001b[0mmessage\u001b[0m\u001b[1;33m,\u001b[0m \u001b[0mscreen\u001b[0m\u001b[1;33m,\u001b[0m \u001b[0mstacktrace\u001b[0m\u001b[1;33m,\u001b[0m \u001b[0malert_text\u001b[0m\u001b[1;33m)\u001b[0m  \u001b[1;31m# type: ignore[call-arg]  # mypy is not smart enough here\u001b[0m\u001b[1;33m\u001b[0m\u001b[1;33m\u001b[0m\u001b[0m\n\u001b[1;32m--> 247\u001b[1;33m         \u001b[1;32mraise\u001b[0m \u001b[0mexception_class\u001b[0m\u001b[1;33m(\u001b[0m\u001b[0mmessage\u001b[0m\u001b[1;33m,\u001b[0m \u001b[0mscreen\u001b[0m\u001b[1;33m,\u001b[0m \u001b[0mstacktrace\u001b[0m\u001b[1;33m)\u001b[0m\u001b[1;33m\u001b[0m\u001b[1;33m\u001b[0m\u001b[0m\n\u001b[0m\u001b[0;32m    248\u001b[0m \u001b[1;33m\u001b[0m\u001b[0m\n\u001b[0;32m    249\u001b[0m     \u001b[1;32mdef\u001b[0m \u001b[0m_value_or_default\u001b[0m\u001b[1;33m(\u001b[0m\u001b[0mself\u001b[0m\u001b[1;33m,\u001b[0m \u001b[0mobj\u001b[0m\u001b[1;33m:\u001b[0m \u001b[0mMapping\u001b[0m\u001b[1;33m[\u001b[0m\u001b[0m_KT\u001b[0m\u001b[1;33m,\u001b[0m \u001b[0m_VT\u001b[0m\u001b[1;33m]\u001b[0m\u001b[1;33m,\u001b[0m \u001b[0mkey\u001b[0m\u001b[1;33m:\u001b[0m \u001b[0m_KT\u001b[0m\u001b[1;33m,\u001b[0m \u001b[0mdefault\u001b[0m\u001b[1;33m:\u001b[0m \u001b[0m_VT\u001b[0m\u001b[1;33m)\u001b[0m \u001b[1;33m->\u001b[0m \u001b[0m_VT\u001b[0m\u001b[1;33m:\u001b[0m\u001b[1;33m\u001b[0m\u001b[1;33m\u001b[0m\u001b[0m\n",
      "\u001b[1;31mNoSuchElementException\u001b[0m: Message: no such element: Unable to locate element: {\"method\":\"css selector\",\"selector\":\"span.price\"}\n  (Session info: chrome=100.0.4896.88)\nStacktrace:\nBacktrace:\n\tOrdinal0 [0x00D99943+2595139]\n\tOrdinal0 [0x00D2C9F1+2148849]\n\tOrdinal0 [0x00C24528+1066280]\n\tOrdinal0 [0x00C50FD4+1249236]\n\tOrdinal0 [0x00C511CB+1249739]\n\tOrdinal0 [0x00C7D812+1431570]\n\tOrdinal0 [0x00C6BA34+1358388]\n\tOrdinal0 [0x00C7BAF2+1424114]\n\tOrdinal0 [0x00C6B806+1357830]\n\tOrdinal0 [0x00C46086+1204358]\n\tOrdinal0 [0x00C46F96+1208214]\n\tGetHandleVerifier [0x00F3B232+1658114]\n\tGetHandleVerifier [0x00FF312C+2411516]\n\tGetHandleVerifier [0x00E2F261+560433]\n\tGetHandleVerifier [0x00E2E366+556598]\n\tOrdinal0 [0x00D3286B+2173035]\n\tOrdinal0 [0x00D375F8+2192888]\n\tOrdinal0 [0x00D376E5+2193125]\n\tOrdinal0 [0x00D411FC+2232828]\n\tBaseThreadInitThunk [0x77C8FA29+25]\n\tRtlGetAppContainerNamedObjectPath [0x77E67A7E+286]\n\tRtlGetAppContainerNamedObjectPath [0x77E67A4E+238]\n"
     ]
    }
   ],
   "source": [
    "#Variável contendo o preço da picanha\n",
    "preco_picanha = nav.find_element_by_css_selector('span.price').text"
   ]
  },
  {
   "cell_type": "code",
   "execution_count": null,
   "id": "2279912b",
   "metadata": {},
   "outputs": [],
   "source": [
    "#Arrumando o número float\n",
    "preco_picanha = preco_picanha.replace(',','.')"
   ]
  },
  {
   "cell_type": "code",
   "execution_count": null,
   "id": "8dd2eed6",
   "metadata": {},
   "outputs": [],
   "source": [
    "#Limpando pesquisa\n",
    "nav.find_element_by_class_name('btn-clear').click()"
   ]
  },
  {
   "cell_type": "markdown",
   "id": "78a8c36d",
   "metadata": {},
   "source": [
    "## CONTRA FILÉ CHORIZO"
   ]
  },
  {
   "cell_type": "code",
   "execution_count": null,
   "id": "83507e2f",
   "metadata": {},
   "outputs": [],
   "source": [
    "#Pesquisando por BIFE DE CONTRA FILÉ SWIFT 900G\n",
    "nav.find_element_by_xpath(pesquisar).send_keys('BIFE DE CONTRA FILÉ SWIFT 900G')"
   ]
  },
  {
   "cell_type": "code",
   "execution_count": null,
   "id": "68c22cc1",
   "metadata": {},
   "outputs": [],
   "source": [
    "#Aguardando 2 segundos\n",
    "sleep(2)"
   ]
  },
  {
   "cell_type": "code",
   "execution_count": null,
   "id": "b08264dc",
   "metadata": {},
   "outputs": [],
   "source": [
    "#Variável contendo o preço do CHORIZO\n",
    "preco_chorizo = nav.find_element_by_css_selector('span.price').text"
   ]
  },
  {
   "cell_type": "code",
   "execution_count": null,
   "id": "37d400c1",
   "metadata": {},
   "outputs": [],
   "source": [
    "#Arrumando o número float\n",
    "preco_chorizo = preco_chorizo.replace(',','.')"
   ]
  },
  {
   "cell_type": "code",
   "execution_count": null,
   "id": "9e415ac0",
   "metadata": {},
   "outputs": [],
   "source": [
    "#Limpando pesquisa\n",
    "nav.find_element_by_class_name('btn-clear').click()"
   ]
  },
  {
   "cell_type": "markdown",
   "id": "7a1abf48",
   "metadata": {},
   "source": [
    "## CONTRA FILÉ ANCHO"
   ]
  },
  {
   "cell_type": "code",
   "execution_count": null,
   "id": "e242e121",
   "metadata": {},
   "outputs": [],
   "source": [
    "#Pesquisando por ANCHO\n",
    "nav.find_element_by_xpath(pesquisar).send_keys('ANCHO')"
   ]
  },
  {
   "cell_type": "code",
   "execution_count": null,
   "id": "e9066f50",
   "metadata": {},
   "outputs": [],
   "source": [
    "#Aguardando 2 segundos\n",
    "sleep(2)"
   ]
  },
  {
   "cell_type": "code",
   "execution_count": null,
   "id": "d53db945",
   "metadata": {},
   "outputs": [],
   "source": [
    "#Variável contendo o preço do ANCHO\n",
    "preco_ancho = nav.find_element_by_css_selector('span.price').text"
   ]
  },
  {
   "cell_type": "code",
   "execution_count": null,
   "id": "d2a4d8c8",
   "metadata": {},
   "outputs": [],
   "source": [
    "#Arrumando o número float\n",
    "preco_ancho = preco_ancho.replace(',','.')"
   ]
  },
  {
   "cell_type": "code",
   "execution_count": null,
   "id": "3e30fbbc",
   "metadata": {},
   "outputs": [],
   "source": [
    "#Limpando pesquisa\n",
    "nav.find_element_by_class_name('btn-clear').click()"
   ]
  },
  {
   "cell_type": "markdown",
   "id": "30f4f4f5",
   "metadata": {},
   "source": [
    "## ALCATRA"
   ]
  },
  {
   "cell_type": "code",
   "execution_count": null,
   "id": "6f2e5fcf",
   "metadata": {},
   "outputs": [],
   "source": [
    "#Pesquisando por ALCATRA\n",
    "nav.find_element_by_xpath(pesquisar).send_keys('ALCATRA')"
   ]
  },
  {
   "cell_type": "code",
   "execution_count": null,
   "id": "631d11ec",
   "metadata": {},
   "outputs": [],
   "source": [
    "#Aguardando 2 segundos\n",
    "sleep(2)"
   ]
  },
  {
   "cell_type": "code",
   "execution_count": null,
   "id": "71dcbf98",
   "metadata": {},
   "outputs": [],
   "source": [
    "#Variável contendo o preço da ALCATRA\n",
    "preco_alcatra = nav.find_element_by_css_selector('span.price').text"
   ]
  },
  {
   "cell_type": "code",
   "execution_count": null,
   "id": "0af35b2c",
   "metadata": {},
   "outputs": [],
   "source": [
    "#Arrumando o número float\n",
    "preco_alcatra = preco_alcatra.replace(',','.')"
   ]
  },
  {
   "cell_type": "code",
   "execution_count": null,
   "id": "53b93735",
   "metadata": {},
   "outputs": [],
   "source": [
    "#Limpando pesquisa\n",
    "nav.find_element_by_class_name('btn-clear').click()"
   ]
  },
  {
   "cell_type": "markdown",
   "id": "f8f6bf9a",
   "metadata": {},
   "source": [
    "## FRALDINHA"
   ]
  },
  {
   "cell_type": "code",
   "execution_count": null,
   "id": "8481398d",
   "metadata": {},
   "outputs": [],
   "source": [
    "#Pesquisando por FRALDA\n",
    "nav.find_element_by_xpath(pesquisar).send_keys('FRALDA')"
   ]
  },
  {
   "cell_type": "code",
   "execution_count": null,
   "id": "5bd5fcd2",
   "metadata": {},
   "outputs": [],
   "source": [
    "#Aguardando 2 segundos\n",
    "sleep(2)"
   ]
  },
  {
   "cell_type": "code",
   "execution_count": null,
   "id": "1aa2491b",
   "metadata": {},
   "outputs": [],
   "source": [
    "#Variável contendo o preço da FRALDINHA\n",
    "preco_fraldinha = nav.find_element_by_css_selector('span.price').text"
   ]
  },
  {
   "cell_type": "code",
   "execution_count": null,
   "id": "b1ba0ca3",
   "metadata": {},
   "outputs": [],
   "source": [
    "#Arrumando o número float\n",
    "preco_fraldinha = preco_fraldinha.replace(',','.')"
   ]
  },
  {
   "cell_type": "code",
   "execution_count": null,
   "id": "41da23c1",
   "metadata": {},
   "outputs": [],
   "source": [
    "#Limpando pesquisa\n",
    "nav.find_element_by_class_name('btn-clear').click()"
   ]
  },
  {
   "cell_type": "markdown",
   "id": "ef425449",
   "metadata": {},
   "source": [
    "## PÃO DE ALHO"
   ]
  },
  {
   "cell_type": "code",
   "execution_count": null,
   "id": "943fcc61",
   "metadata": {},
   "outputs": [],
   "source": [
    "#Pesquisando por PÃO DE ALHO BAGUETE TRADICIONAL\n",
    "nav.find_element_by_xpath(pesquisar).send_keys('PÃO DE ALHO BAGUETE TRADICIONAL')"
   ]
  },
  {
   "cell_type": "code",
   "execution_count": null,
   "id": "8ee116dc",
   "metadata": {},
   "outputs": [],
   "source": [
    "#Aguardando 2 segundos\n",
    "sleep(2)"
   ]
  },
  {
   "cell_type": "code",
   "execution_count": null,
   "id": "c207bdfe",
   "metadata": {},
   "outputs": [],
   "source": [
    "#Variável contendo o preço do PÃO DE ALHO\n",
    "preco_palho = nav.find_element_by_css_selector('span.price').text"
   ]
  },
  {
   "cell_type": "code",
   "execution_count": null,
   "id": "e36e92f3",
   "metadata": {},
   "outputs": [],
   "source": [
    "#Arrumando o número float\n",
    "preco_palho = preco_palho.replace(',','.')"
   ]
  },
  {
   "cell_type": "code",
   "execution_count": null,
   "id": "c0b49086",
   "metadata": {},
   "outputs": [],
   "source": [
    "#Limpando pesquisa\n",
    "nav.find_element_by_class_name('btn-clear').click()"
   ]
  },
  {
   "cell_type": "markdown",
   "id": "d9f088d8",
   "metadata": {},
   "source": [
    "## TULIPINHA"
   ]
  },
  {
   "cell_type": "code",
   "execution_count": null,
   "id": "505d4057",
   "metadata": {},
   "outputs": [],
   "source": [
    "#Pesquisando por MEIO DA ASA\n",
    "nav.find_element_by_xpath(pesquisar).send_keys('MEIO DA ASA')"
   ]
  },
  {
   "cell_type": "code",
   "execution_count": null,
   "id": "4752b242",
   "metadata": {},
   "outputs": [],
   "source": [
    "#Aguardando 2 segundos\n",
    "sleep(2)"
   ]
  },
  {
   "cell_type": "code",
   "execution_count": null,
   "id": "dfed8929",
   "metadata": {},
   "outputs": [],
   "source": [
    "#Variável contendo o preço da TULIPINHA\n",
    "preco_tulipa = nav.find_element_by_css_selector('span.price').text"
   ]
  },
  {
   "cell_type": "code",
   "execution_count": null,
   "id": "b5f0631a",
   "metadata": {},
   "outputs": [],
   "source": [
    "#tulipa não temperada\n",
    "preco_tulipa = float(preco_tulipa.replace(',','.')[3:]) - 1"
   ]
  },
  {
   "cell_type": "code",
   "execution_count": null,
   "id": "6381516d",
   "metadata": {},
   "outputs": [],
   "source": [
    "#Voltando para string\n",
    "preco_tulipa = str(f'R$ {preco_tulipa}')"
   ]
  },
  {
   "cell_type": "code",
   "execution_count": null,
   "id": "a42bc68d",
   "metadata": {},
   "outputs": [],
   "source": [
    "#Limpando pesquisa\n",
    "nav.find_element_by_class_name('btn-clear').click()"
   ]
  },
  {
   "cell_type": "markdown",
   "id": "d42cdbeb",
   "metadata": {},
   "source": [
    "## FILÉ DE COXA E SOBRECOXA"
   ]
  },
  {
   "cell_type": "code",
   "execution_count": null,
   "id": "cce76b53",
   "metadata": {},
   "outputs": [],
   "source": [
    "#Pesquisando por SOBRECOXA\n",
    "nav.find_element_by_xpath(pesquisar).send_keys('SOBRECOXA')"
   ]
  },
  {
   "cell_type": "code",
   "execution_count": null,
   "id": "9b01a334",
   "metadata": {},
   "outputs": [],
   "source": [
    "#Aguardando 2 segundos\n",
    "sleep(2)"
   ]
  },
  {
   "cell_type": "code",
   "execution_count": null,
   "id": "43699084",
   "metadata": {},
   "outputs": [],
   "source": [
    "#Variável contendo o preço da SOBRECOXA\n",
    "preco_sobrecoxa = nav.find_element_by_css_selector('span.price').text"
   ]
  },
  {
   "cell_type": "code",
   "execution_count": null,
   "id": "8f4d28bc",
   "metadata": {},
   "outputs": [],
   "source": [
    "#SOBRECOXA COM PELE\n",
    "preco_sobrecoxa = float(preco_sobrecoxa.replace(',','.')[3:]) - 0.99"
   ]
  },
  {
   "cell_type": "code",
   "execution_count": null,
   "id": "c812bfeb",
   "metadata": {},
   "outputs": [],
   "source": [
    "#Valor correto\n",
    "preco_sobrecoxa = preco_sobrecoxa - 00.000000000000002"
   ]
  },
  {
   "cell_type": "code",
   "execution_count": null,
   "id": "5dcab05c",
   "metadata": {},
   "outputs": [],
   "source": [
    "#Voltando para string\n",
    "preco_sobrecoxa = str(f'R$ {preco_sobrecoxa}')"
   ]
  },
  {
   "cell_type": "code",
   "execution_count": null,
   "id": "21fa723b",
   "metadata": {},
   "outputs": [],
   "source": [
    "#Limpando pesquisa\n",
    "nav.find_element_by_class_name('btn-clear').click()"
   ]
  },
  {
   "cell_type": "markdown",
   "id": "aab3438b",
   "metadata": {},
   "source": [
    "## LINGUIÇA"
   ]
  },
  {
   "cell_type": "code",
   "execution_count": null,
   "id": "d0af5084",
   "metadata": {},
   "outputs": [],
   "source": [
    "#Pesquisando por LINGUIÇA\n",
    "nav.find_element_by_xpath(pesquisar).send_keys('LINGUIÇA')"
   ]
  },
  {
   "cell_type": "code",
   "execution_count": null,
   "id": "409b8b30",
   "metadata": {},
   "outputs": [],
   "source": [
    "#Aguardando 2 segundos\n",
    "sleep(2)"
   ]
  },
  {
   "cell_type": "code",
   "execution_count": null,
   "id": "b78ac940",
   "metadata": {},
   "outputs": [],
   "source": [
    "#Variável contendo o preço da LINGUIÇA\n",
    "preco_linguica = nav.find_element_by_css_selector('span.price').text"
   ]
  },
  {
   "cell_type": "code",
   "execution_count": null,
   "id": "a1679e06",
   "metadata": {},
   "outputs": [],
   "source": [
    "#Arrumando o número float\n",
    "preco_linguica = preco_linguica.replace(',','.')"
   ]
  },
  {
   "cell_type": "code",
   "execution_count": null,
   "id": "e190cdc5",
   "metadata": {},
   "outputs": [],
   "source": [
    "#Limpando pesquisa\n",
    "nav.find_element_by_class_name('btn-clear').click()"
   ]
  },
  {
   "cell_type": "code",
   "execution_count": null,
   "id": "a5df48c6",
   "metadata": {},
   "outputs": [],
   "source": [
    "#Fechando Navegador\n",
    "nav.quit()"
   ]
  },
  {
   "cell_type": "markdown",
   "id": "d24d19b5",
   "metadata": {},
   "source": [
    "# TRANSFORMANDO EM TABELA"
   ]
  },
  {
   "cell_type": "code",
   "execution_count": null,
   "id": "bea497d6",
   "metadata": {},
   "outputs": [],
   "source": [
    "#Criando df\n",
    "df = pd.DataFrame([preco_picanha, preco_chorizo, preco_ancho, preco_alcatra, preco_fraldinha, preco_palho, preco_tulipa, preco_sobrecoxa, preco_linguica],index=['Picanha gold','Chorizo','Ancho','Alcatra','Fraldinha','Pão de alho','Tulipinha','Sobrecoxa','Linguiça'], columns=\"PREÇO\".split())"
   ]
  },
  {
   "cell_type": "code",
   "execution_count": null,
   "id": "e282f329",
   "metadata": {},
   "outputs": [],
   "source": [
    "#Visualizando df\n",
    "df"
   ]
  },
  {
   "cell_type": "code",
   "execution_count": null,
   "id": "2fd3a72e",
   "metadata": {},
   "outputs": [],
   "source": [
    "#deletando arquivo \n",
    "try:\n",
    "    os.remove('churrasco.xlsx')\n",
    "    print('Arquivo deletado com sucesso!!!')\n",
    "except FileNotFoundError:\n",
    "    print('Arquivo não existe')"
   ]
  },
  {
   "cell_type": "code",
   "execution_count": null,
   "id": "f90faad3",
   "metadata": {},
   "outputs": [],
   "source": [
    "df['PESO Kg'] = [1, 1, 1, 1, 1, 0.4, 1, 1, 1]"
   ]
  },
  {
   "cell_type": "code",
   "execution_count": null,
   "id": "47382805",
   "metadata": {},
   "outputs": [],
   "source": [
    "df"
   ]
  },
  {
   "cell_type": "code",
   "execution_count": null,
   "id": "b85dfdac",
   "metadata": {},
   "outputs": [],
   "source": [
    "carnes_escolhidas = []\n",
    "qtd_carnes_escolhidas = []\n",
    "op = []\n",
    "\n",
    "for carne in df.index:\n",
    "    resp = str(input(f'\\033[1;35mVai de {carne}? [S][N]\\033[1;35m ').upper())\n",
    "    while resp not in 'SN':\n",
    "        resp = str(input('\\033[1;31mERRO! Digite uma opção válida [S][N]:\\033[m ').upper())\n",
    "    op.append(resp)\n",
    "    if resp == 'S':\n",
    "        qtd = float(input('\\033[1;33mQTD em Kg:\\033[1;33m '))\n",
    "        carnes_escolhidas.append(carne)\n",
    "        qtd_carnes_escolhidas.append(qtd)\n",
    "    if resp in 'SN':\n",
    "        continue"
   ]
  },
  {
   "cell_type": "code",
   "execution_count": null,
   "id": "392b9406",
   "metadata": {},
   "outputs": [],
   "source": [
    "df['QUERO'] = op"
   ]
  },
  {
   "cell_type": "code",
   "execution_count": null,
   "id": "538c09bd",
   "metadata": {},
   "outputs": [],
   "source": [
    "df_final = df[df['QUERO'] == 'S']"
   ]
  },
  {
   "cell_type": "code",
   "execution_count": null,
   "id": "f9bb1c72",
   "metadata": {},
   "outputs": [],
   "source": [
    "df_final['QTD Desejada'] = qtd_carnes_escolhidas"
   ]
  },
  {
   "cell_type": "code",
   "execution_count": null,
   "id": "9e8cdbd8",
   "metadata": {},
   "outputs": [],
   "source": [
    "lista_preco = []\n",
    "for v in df_final['PREÇO']:\n",
    "    v = float(v[3:])\n",
    "    lista_preco.append(v)"
   ]
  },
  {
   "cell_type": "code",
   "execution_count": null,
   "id": "fc5fb6cf",
   "metadata": {},
   "outputs": [],
   "source": [
    "df_final['PREÇO'] = lista_preco"
   ]
  },
  {
   "cell_type": "code",
   "execution_count": null,
   "id": "6acbe102",
   "metadata": {},
   "outputs": [],
   "source": [
    "df_final.drop(['PESO Kg', 'QUERO'], axis=1, inplace=True)"
   ]
  },
  {
   "cell_type": "code",
   "execution_count": null,
   "id": "3287e81b",
   "metadata": {},
   "outputs": [],
   "source": [
    "df_final['VALOR TOTAL'] =  df_final['PREÇO'] * df_final['QTD Desejada']"
   ]
  },
  {
   "cell_type": "code",
   "execution_count": null,
   "id": "7a8685bf",
   "metadata": {},
   "outputs": [],
   "source": [
    "qtd_pessoas = int(input('\\033[1;34mChurrasco para quantas pessoas?\\033[1;34m'))"
   ]
  },
  {
   "cell_type": "code",
   "execution_count": null,
   "id": "2aa24122",
   "metadata": {},
   "outputs": [],
   "source": [
    "total = sum(df_final['VALOR TOTAL'])\n",
    "valor_por_pessoa = total / qtd_pessoas"
   ]
  },
  {
   "cell_type": "code",
   "execution_count": null,
   "id": "69170d5a",
   "metadata": {},
   "outputs": [],
   "source": [
    "print(f'O churrasco ficou orçado em {total:.2f}')\n",
    "print('Para um total de {:.2f}Kg '.format(df_final['QTD Desejada'].sum()))\n",
    "print(f'Um total de {valor_por_pessoa:.2f} por pessoa')"
   ]
  },
  {
   "cell_type": "raw",
   "id": "bcfbf065",
   "metadata": {},
   "source": []
  }
 ],
 "metadata": {
  "kernelspec": {
   "display_name": "Python 3 (ipykernel)",
   "language": "python",
   "name": "python3"
  },
  "language_info": {
   "codemirror_mode": {
    "name": "ipython",
    "version": 3
   },
   "file_extension": ".py",
   "mimetype": "text/x-python",
   "name": "python",
   "nbconvert_exporter": "python",
   "pygments_lexer": "ipython3",
   "version": "3.9.7"
  }
 },
 "nbformat": 4,
 "nbformat_minor": 5
}
