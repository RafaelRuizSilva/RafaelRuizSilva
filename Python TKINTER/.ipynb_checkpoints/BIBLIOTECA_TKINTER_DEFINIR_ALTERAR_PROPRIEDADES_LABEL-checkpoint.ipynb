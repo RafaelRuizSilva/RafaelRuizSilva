{
 "cells": [
  {
   "cell_type": "markdown",
   "id": "2c3e88ec",
   "metadata": {},
   "source": [
    "# DEFINIR E ALTERAR PROPRIEDADES DE UM LABEL"
   ]
  },
  {
   "cell_type": "code",
   "execution_count": 111,
   "id": "94041572",
   "metadata": {},
   "outputs": [],
   "source": [
    "from tkinter import *"
   ]
  },
  {
   "cell_type": "code",
   "execution_count": 112,
   "id": "c0bb3441",
   "metadata": {},
   "outputs": [],
   "source": [
    "menu_inicial = Tk()"
   ]
  },
  {
   "cell_type": "code",
   "execution_count": 113,
   "id": "6f0555d9",
   "metadata": {},
   "outputs": [
    {
     "data": {
      "text/plain": [
       "''"
      ]
     },
     "execution_count": 113,
     "metadata": {},
     "output_type": "execute_result"
    }
   ],
   "source": [
    "menu_inicial.title('DEFINIR E ALTERAR PROPRIEDADES DE UM LABEL')"
   ]
  },
  {
   "cell_type": "code",
   "execution_count": 114,
   "id": "5d5ef6c7",
   "metadata": {},
   "outputs": [
    {
     "data": {
      "text/plain": [
       "''"
      ]
     },
     "execution_count": 114,
     "metadata": {},
     "output_type": "execute_result"
    }
   ],
   "source": [
    "menu_inicial.geometry('500x300')"
   ]
  },
  {
   "cell_type": "markdown",
   "id": "2a0b5700",
   "metadata": {},
   "source": [
    "## A label pode ser criado de qualquer uma das maneiras, o que importa é que para alterar as propriedades de uma label por fora dela, mudamos separadamente os parâmetros."
   ]
  },
  {
   "cell_type": "code",
   "execution_count": 115,
   "id": "0275fd69",
   "metadata": {},
   "outputs": [],
   "source": [
    "# Label 1 \n",
    "label_1 = Label(menu_inicial,\n",
    "                text = 'Frase Teste',\n",
    "                bd = 1,\n",
    "                relief = 'solid',\n",
    "                font = 'Arial 12 bold')"
   ]
  },
  {
   "cell_type": "code",
   "execution_count": 116,
   "id": "dde7eb59",
   "metadata": {},
   "outputs": [],
   "source": [
    "# Label 2\n",
    "label_2 = Label(menu_inicial)\n",
    "label_2['text'] = 'Texto da label 2'\n",
    "label_2['bd'] = 1\n",
    "label_2['relief'] = 'solid'\n",
    "label_2['font'] = 'Arial 12 bold'\n",
    "\n",
    "#Alterando o Texto por exemplo\n",
    "label_2['text'] = 'Novo texto'"
   ]
  },
  {
   "cell_type": "code",
   "execution_count": 117,
   "id": "533f8e79",
   "metadata": {},
   "outputs": [
    {
     "name": "stdout",
     "output_type": "stream",
     "text": [
      "activebackground : SystemButtonFace\n",
      "activeforeground : SystemButtonText\n",
      "anchor : center\n",
      "background : SystemButtonFace\n",
      "bd : 1\n",
      "bg : SystemButtonFace\n",
      "bitmap : \n",
      "borderwidth : 1\n",
      "compound : none\n",
      "cursor : \n",
      "disabledforeground : SystemDisabledText\n",
      "fg : SystemButtonText\n",
      "font : Arial 12 bold\n",
      "foreground : SystemButtonText\n",
      "height : 0\n",
      "highlightbackground : SystemButtonFace\n",
      "highlightcolor : SystemWindowFrame\n",
      "highlightthickness : 0\n",
      "image : \n",
      "justify : center\n",
      "padx : 1\n",
      "pady : 1\n",
      "relief : solid\n",
      "state : normal\n",
      "takefocus : 0\n",
      "text : Novo texto\n",
      "textvariable : \n",
      "underline : -1\n",
      "width : 0\n",
      "wraplength : 0\n"
     ]
    }
   ],
   "source": [
    "#Visualizando parâmetros disponíveis na função label\n",
    "for item in label_2.keys():\n",
    "    print(item, ':' ,label_2[item])"
   ]
  },
  {
   "cell_type": "code",
   "execution_count": 118,
   "id": "c49229de",
   "metadata": {},
   "outputs": [],
   "source": [
    "label_1.pack()\n",
    "label_2.pack()"
   ]
  },
  {
   "cell_type": "code",
   "execution_count": 119,
   "id": "75e282d8",
   "metadata": {},
   "outputs": [],
   "source": [
    "menu_inicial.mainloop()"
   ]
  }
 ],
 "metadata": {
  "kernelspec": {
   "display_name": "Python 3",
   "language": "python",
   "name": "python3"
  },
  "language_info": {
   "codemirror_mode": {
    "name": "ipython",
    "version": 3
   },
   "file_extension": ".py",
   "mimetype": "text/x-python",
   "name": "python",
   "nbconvert_exporter": "python",
   "pygments_lexer": "ipython3",
   "version": "3.8.8"
  }
 },
 "nbformat": 4,
 "nbformat_minor": 5
}
