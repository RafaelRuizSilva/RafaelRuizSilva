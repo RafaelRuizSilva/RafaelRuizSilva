{
 "cells": [
  {
   "cell_type": "markdown",
   "id": "02c0b3f4",
   "metadata": {},
   "source": [
    "# ALTERAR CORES, TIPO DE LETRA E BORDA "
   ]
  },
  {
   "cell_type": "code",
   "execution_count": 1,
   "id": "91ff385d",
   "metadata": {},
   "outputs": [],
   "source": [
    "from tkinter import *"
   ]
  },
  {
   "cell_type": "code",
   "execution_count": 2,
   "id": "930f2a55",
   "metadata": {},
   "outputs": [],
   "source": [
    "menu_inicial = Tk()"
   ]
  },
  {
   "cell_type": "code",
   "execution_count": 3,
   "id": "f11b6559",
   "metadata": {},
   "outputs": [
    {
     "data": {
      "text/plain": [
       "''"
      ]
     },
     "execution_count": 3,
     "metadata": {},
     "output_type": "execute_result"
    }
   ],
   "source": [
    "menu_inicial.title('Alterar cores e tipo de letra')"
   ]
  },
  {
   "cell_type": "code",
   "execution_count": 4,
   "id": "94f47883",
   "metadata": {},
   "outputs": [
    {
     "data": {
      "text/plain": [
       "''"
      ]
     },
     "execution_count": 4,
     "metadata": {},
     "output_type": "execute_result"
    }
   ],
   "source": [
    "menu_inicial.geometry('500x300')"
   ]
  },
  {
   "cell_type": "markdown",
   "id": "5f76aeab",
   "metadata": {},
   "source": [
    "## PARÂMETROS LABEL\n",
    "- **Text:** texto que irá aparecer\n",
    "- **bg:** Background do texto\n",
    "- **fg:** Cor da fonte\n",
    "- **font:** Fonte do texto\n",
    "- **width:** Largura do label\n",
    "- **height:** Alturado label\n",
    "- **bd:** Borda (só funciona com o relief)\n",
    "- **relief:** Tipo de borda pode ser ['solid', 'groove', 'flat', 'raised', 'sunken', 'ridge']\n",
    "- **anchor:** Alinhamento do label [N, S, W, E, NW, SW, NE, SE, CENTER]"
   ]
  },
  {
   "cell_type": "code",
   "execution_count": 5,
   "id": "a010614a",
   "metadata": {},
   "outputs": [],
   "source": [
    "#Criando label 1\n",
    "label_1 = Label(menu_inicial, \n",
    "                text='Este é o label 1',\n",
    "                bg='#ffaa00',\n",
    "                fg='blue',\n",
    "                font='Verdana 20 bold',\n",
    "                width='20',\n",
    "                bd = '3',\n",
    "                relief = 'solid'\n",
    "                )"
   ]
  },
  {
   "cell_type": "code",
   "execution_count": 6,
   "id": "ac848375",
   "metadata": {},
   "outputs": [],
   "source": [
    "#Criando label 2\n",
    "label_2 = Label(menu_inicial, \n",
    "                text='Este é o label 2',\n",
    "                bg='#a6ffe3',\n",
    "                font='arial 20',\n",
    "                width='20',\n",
    "                bd = '3',\n",
    "                relief = 'solid',\n",
    "                height='2',\n",
    "                anchor=N\n",
    "                )"
   ]
  },
  {
   "cell_type": "code",
   "execution_count": 7,
   "id": "842907b0",
   "metadata": {},
   "outputs": [],
   "source": [
    "#Executando labels\n",
    "label_1.pack()\n",
    "label_2.pack()"
   ]
  },
  {
   "cell_type": "code",
   "execution_count": 8,
   "id": "0c8b2618",
   "metadata": {},
   "outputs": [],
   "source": [
    "menu_inicial.mainloop()"
   ]
  }
 ],
 "metadata": {
  "kernelspec": {
   "display_name": "Python 3",
   "language": "python",
   "name": "python3"
  },
  "language_info": {
   "codemirror_mode": {
    "name": "ipython",
    "version": 3
   },
   "file_extension": ".py",
   "mimetype": "text/x-python",
   "name": "python",
   "nbconvert_exporter": "python",
   "pygments_lexer": "ipython3",
   "version": "3.8.8"
  }
 },
 "nbformat": 4,
 "nbformat_minor": 5
}
