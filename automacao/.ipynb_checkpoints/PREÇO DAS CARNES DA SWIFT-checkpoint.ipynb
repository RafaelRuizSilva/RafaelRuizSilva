{
 "cells": [
  {
   "cell_type": "code",
   "execution_count": 74,
   "id": "cc56a9cd",
   "metadata": {},
   "outputs": [],
   "source": [
    "from selenium import webdriver\n",
    "from selenium.webdriver.common.by import By\n",
    "from selenium.webdriver.common.keys import Keys\n",
    "from selenium.webdriver.common.action_chains import ActionChains\n",
    "from time import sleep\n",
    "import pandas as pd\n",
    "import os\n",
    "import warnings"
   ]
  },
  {
   "cell_type": "code",
   "execution_count": 75,
   "id": "4c595cdc",
   "metadata": {},
   "outputs": [],
   "source": [
    "#Navegador chrome\n",
    "nav = webdriver.Chrome()"
   ]
  },
  {
   "cell_type": "code",
   "execution_count": 76,
   "id": "fe161301",
   "metadata": {},
   "outputs": [],
   "source": [
    "warnings.filterwarnings('ignore')"
   ]
  },
  {
   "cell_type": "code",
   "execution_count": 77,
   "id": "851bee51",
   "metadata": {},
   "outputs": [],
   "source": [
    "mouse = webdriver.ActionChains(nav)"
   ]
  },
  {
   "cell_type": "code",
   "execution_count": 78,
   "id": "c94b18d9",
   "metadata": {},
   "outputs": [],
   "source": [
    "#Entrando no site da swift\n",
    "nav.get('https://www.swift.com.br/?utm_source=rakuten&utm_medium=afiliados&utm_term=3803082&ranMID=46591&ranEAID=B*sIAgSVIF0&ranSiteID=B.sIAgSVIF0-hN.7e8M1GnvJbNh6ledOEw')"
   ]
  },
  {
   "cell_type": "code",
   "execution_count": 79,
   "id": "c3c0f78f",
   "metadata": {},
   "outputs": [],
   "source": [
    "#Aguardando 3 segundos\n",
    "sleep(3)"
   ]
  },
  {
   "cell_type": "markdown",
   "id": "982fcbcd",
   "metadata": {},
   "source": [
    "## Picanha Gold swift"
   ]
  },
  {
   "cell_type": "code",
   "execution_count": 80,
   "id": "8fab9362",
   "metadata": {},
   "outputs": [],
   "source": [
    "#Variáveis com os caminhos de cada div\n",
    "botao_busca = 'btn-open-search'\n",
    "pesquisar = '//*[@id=\"pesquisar\"]'"
   ]
  },
  {
   "cell_type": "code",
   "execution_count": 81,
   "id": "189eb72c",
   "metadata": {},
   "outputs": [],
   "source": [
    "#clicando no botao de busca\n",
    "nav.find_element_by_class_name(botao_busca).click()"
   ]
  },
  {
   "cell_type": "code",
   "execution_count": 82,
   "id": "7f1f977e",
   "metadata": {},
   "outputs": [],
   "source": [
    "#Pesquisando por PICANHA NOBRE\n",
    "nav.find_element_by_xpath(pesquisar).send_keys('PICANHA NOBRE')"
   ]
  },
  {
   "cell_type": "code",
   "execution_count": 83,
   "id": "43922b84",
   "metadata": {},
   "outputs": [],
   "source": [
    "#Aguardando 2 segundos\n",
    "sleep(2)"
   ]
  },
  {
   "cell_type": "code",
   "execution_count": 84,
   "id": "eebb10c7",
   "metadata": {},
   "outputs": [],
   "source": [
    "#Variável contendo o preço da picanha\n",
    "preco_picanha = nav.find_element_by_css_selector('span.price').text"
   ]
  },
  {
   "cell_type": "code",
   "execution_count": 85,
   "id": "2279912b",
   "metadata": {},
   "outputs": [],
   "source": [
    "#Arrumando o número float\n",
    "preco_picanha = preco_picanha.replace(',','.')"
   ]
  },
  {
   "cell_type": "code",
   "execution_count": 86,
   "id": "8dd2eed6",
   "metadata": {},
   "outputs": [],
   "source": [
    "#Limpando pesquisa\n",
    "nav.find_element_by_class_name('btn-clear').click()"
   ]
  },
  {
   "cell_type": "markdown",
   "id": "78a8c36d",
   "metadata": {},
   "source": [
    "## CONTRA FILÉ CHORIZO"
   ]
  },
  {
   "cell_type": "code",
   "execution_count": 87,
   "id": "83507e2f",
   "metadata": {},
   "outputs": [],
   "source": [
    "#Pesquisando por BIFE DE CONTRA FILÉ SWIFT 900G\n",
    "nav.find_element_by_xpath(pesquisar).send_keys('BIFE DE CONTRA FILÉ SWIFT 900G')"
   ]
  },
  {
   "cell_type": "code",
   "execution_count": 88,
   "id": "68c22cc1",
   "metadata": {},
   "outputs": [],
   "source": [
    "#Aguardando 2 segundos\n",
    "sleep(2)"
   ]
  },
  {
   "cell_type": "code",
   "execution_count": 89,
   "id": "b08264dc",
   "metadata": {},
   "outputs": [],
   "source": [
    "#Variável contendo o preço do CHORIZO\n",
    "preco_chorizo = nav.find_element_by_css_selector('span.price').text"
   ]
  },
  {
   "cell_type": "code",
   "execution_count": 90,
   "id": "37d400c1",
   "metadata": {},
   "outputs": [],
   "source": [
    "#Arrumando o número float\n",
    "preco_chorizo = preco_chorizo.replace(',','.')"
   ]
  },
  {
   "cell_type": "code",
   "execution_count": 91,
   "id": "9e415ac0",
   "metadata": {},
   "outputs": [],
   "source": [
    "#Limpando pesquisa\n",
    "nav.find_element_by_class_name('btn-clear').click()"
   ]
  },
  {
   "cell_type": "markdown",
   "id": "7a1abf48",
   "metadata": {},
   "source": [
    "## CONTRA FILÉ ANCHO"
   ]
  },
  {
   "cell_type": "code",
   "execution_count": 92,
   "id": "e242e121",
   "metadata": {},
   "outputs": [],
   "source": [
    "#Pesquisando por ANCHO\n",
    "nav.find_element_by_xpath(pesquisar).send_keys('ANCHO')"
   ]
  },
  {
   "cell_type": "code",
   "execution_count": 93,
   "id": "e9066f50",
   "metadata": {},
   "outputs": [],
   "source": [
    "#Aguardando 2 segundos\n",
    "sleep(2)"
   ]
  },
  {
   "cell_type": "code",
   "execution_count": 94,
   "id": "d53db945",
   "metadata": {},
   "outputs": [],
   "source": [
    "#Variável contendo o preço do ANCHO\n",
    "preco_ancho = nav.find_element_by_css_selector('span.price').text"
   ]
  },
  {
   "cell_type": "code",
   "execution_count": 95,
   "id": "d2a4d8c8",
   "metadata": {},
   "outputs": [],
   "source": [
    "#Arrumando o número float\n",
    "preco_ancho = preco_ancho.replace(',','.')"
   ]
  },
  {
   "cell_type": "code",
   "execution_count": 96,
   "id": "3e30fbbc",
   "metadata": {},
   "outputs": [],
   "source": [
    "#Limpando pesquisa\n",
    "nav.find_element_by_class_name('btn-clear').click()"
   ]
  },
  {
   "cell_type": "markdown",
   "id": "30f4f4f5",
   "metadata": {},
   "source": [
    "## ALCATRA"
   ]
  },
  {
   "cell_type": "code",
   "execution_count": 97,
   "id": "6f2e5fcf",
   "metadata": {},
   "outputs": [],
   "source": [
    "#Pesquisando por ALCATRA\n",
    "nav.find_element_by_xpath(pesquisar).send_keys('ALCATRA')"
   ]
  },
  {
   "cell_type": "code",
   "execution_count": 98,
   "id": "631d11ec",
   "metadata": {},
   "outputs": [],
   "source": [
    "#Aguardando 2 segundos\n",
    "sleep(2)"
   ]
  },
  {
   "cell_type": "code",
   "execution_count": 99,
   "id": "71dcbf98",
   "metadata": {},
   "outputs": [],
   "source": [
    "#Variável contendo o preço da ALCATRA\n",
    "preco_alcatra = nav.find_element_by_css_selector('span.price').text"
   ]
  },
  {
   "cell_type": "code",
   "execution_count": 100,
   "id": "0af35b2c",
   "metadata": {},
   "outputs": [],
   "source": [
    "#Arrumando o número float\n",
    "preco_alcatra = preco_alcatra.replace(',','.')"
   ]
  },
  {
   "cell_type": "code",
   "execution_count": 101,
   "id": "53b93735",
   "metadata": {},
   "outputs": [],
   "source": [
    "#Limpando pesquisa\n",
    "nav.find_element_by_class_name('btn-clear').click()"
   ]
  },
  {
   "cell_type": "markdown",
   "id": "f8f6bf9a",
   "metadata": {},
   "source": [
    "## FRALDINHA"
   ]
  },
  {
   "cell_type": "code",
   "execution_count": 102,
   "id": "8481398d",
   "metadata": {},
   "outputs": [],
   "source": [
    "#Pesquisando por FRALDA\n",
    "nav.find_element_by_xpath(pesquisar).send_keys('FRALDA')"
   ]
  },
  {
   "cell_type": "code",
   "execution_count": 103,
   "id": "5bd5fcd2",
   "metadata": {},
   "outputs": [],
   "source": [
    "#Aguardando 2 segundos\n",
    "sleep(2)"
   ]
  },
  {
   "cell_type": "code",
   "execution_count": 104,
   "id": "1aa2491b",
   "metadata": {},
   "outputs": [],
   "source": [
    "#Variável contendo o preço da FRALDINHA\n",
    "preco_fraldinha = nav.find_element_by_css_selector('span.price').text"
   ]
  },
  {
   "cell_type": "code",
   "execution_count": 105,
   "id": "b1ba0ca3",
   "metadata": {},
   "outputs": [],
   "source": [
    "#Arrumando o número float\n",
    "preco_fraldinha = preco_fraldinha.replace(',','.')"
   ]
  },
  {
   "cell_type": "code",
   "execution_count": 106,
   "id": "41da23c1",
   "metadata": {},
   "outputs": [],
   "source": [
    "#Limpando pesquisa\n",
    "nav.find_element_by_class_name('btn-clear').click()"
   ]
  },
  {
   "cell_type": "markdown",
   "id": "ef425449",
   "metadata": {},
   "source": [
    "## PÃO DE ALHO"
   ]
  },
  {
   "cell_type": "code",
   "execution_count": 107,
   "id": "943fcc61",
   "metadata": {},
   "outputs": [],
   "source": [
    "#Pesquisando por PÃO DE ALHO BAGUETE TRADICIONAL\n",
    "nav.find_element_by_xpath(pesquisar).send_keys('PÃO DE ALHO BAGUETE TRADICIONAL')"
   ]
  },
  {
   "cell_type": "code",
   "execution_count": 108,
   "id": "8ee116dc",
   "metadata": {},
   "outputs": [],
   "source": [
    "#Aguardando 2 segundos\n",
    "sleep(2)"
   ]
  },
  {
   "cell_type": "code",
   "execution_count": 109,
   "id": "c207bdfe",
   "metadata": {},
   "outputs": [],
   "source": [
    "#Variável contendo o preço do PÃO DE ALHO\n",
    "preco_palho = nav.find_element_by_css_selector('span.price').text"
   ]
  },
  {
   "cell_type": "code",
   "execution_count": 110,
   "id": "e36e92f3",
   "metadata": {},
   "outputs": [],
   "source": [
    "#Arrumando o número float\n",
    "preco_palho = preco_palho.replace(',','.')"
   ]
  },
  {
   "cell_type": "code",
   "execution_count": 111,
   "id": "c0b49086",
   "metadata": {},
   "outputs": [],
   "source": [
    "#Limpando pesquisa\n",
    "nav.find_element_by_class_name('btn-clear').click()"
   ]
  },
  {
   "cell_type": "markdown",
   "id": "d9f088d8",
   "metadata": {},
   "source": [
    "## TULIPINHA"
   ]
  },
  {
   "cell_type": "code",
   "execution_count": 112,
   "id": "505d4057",
   "metadata": {},
   "outputs": [],
   "source": [
    "#Pesquisando por MEIO DA ASA\n",
    "nav.find_element_by_xpath(pesquisar).send_keys('MEIO DA ASA')"
   ]
  },
  {
   "cell_type": "code",
   "execution_count": 113,
   "id": "4752b242",
   "metadata": {},
   "outputs": [],
   "source": [
    "#Aguardando 2 segundos\n",
    "sleep(2)"
   ]
  },
  {
   "cell_type": "code",
   "execution_count": 114,
   "id": "dfed8929",
   "metadata": {},
   "outputs": [],
   "source": [
    "#Variável contendo o preço da TULIPINHA\n",
    "preco_tulipa = nav.find_element_by_css_selector('span.price').text"
   ]
  },
  {
   "cell_type": "code",
   "execution_count": 115,
   "id": "b5f0631a",
   "metadata": {},
   "outputs": [],
   "source": [
    "#tulipa não temperada\n",
    "preco_tulipa = float(preco_tulipa.replace(',','.')[3:]) - 1"
   ]
  },
  {
   "cell_type": "code",
   "execution_count": 116,
   "id": "6381516d",
   "metadata": {},
   "outputs": [],
   "source": [
    "#Voltando para string\n",
    "preco_tulipa = str(f'R$ {preco_tulipa}')"
   ]
  },
  {
   "cell_type": "code",
   "execution_count": 117,
   "id": "a42bc68d",
   "metadata": {},
   "outputs": [],
   "source": [
    "#Limpando pesquisa\n",
    "nav.find_element_by_class_name('btn-clear').click()"
   ]
  },
  {
   "cell_type": "markdown",
   "id": "d42cdbeb",
   "metadata": {},
   "source": [
    "## FILÉ DE COXA E SOBRECOXA"
   ]
  },
  {
   "cell_type": "code",
   "execution_count": 118,
   "id": "cce76b53",
   "metadata": {},
   "outputs": [],
   "source": [
    "#Pesquisando por SOBRECOXA\n",
    "nav.find_element_by_xpath(pesquisar).send_keys('SOBRECOXA')"
   ]
  },
  {
   "cell_type": "code",
   "execution_count": 119,
   "id": "9b01a334",
   "metadata": {},
   "outputs": [],
   "source": [
    "#Aguardando 2 segundos\n",
    "sleep(2)"
   ]
  },
  {
   "cell_type": "code",
   "execution_count": 120,
   "id": "43699084",
   "metadata": {},
   "outputs": [],
   "source": [
    "#Variável contendo o preço da SOBRECOXA\n",
    "preco_sobrecoxa = nav.find_element_by_css_selector('span.price').text"
   ]
  },
  {
   "cell_type": "code",
   "execution_count": 121,
   "id": "8f4d28bc",
   "metadata": {},
   "outputs": [],
   "source": [
    "#SOBRECOXA COM PELE\n",
    "preco_sobrecoxa = float(preco_sobrecoxa.replace(',','.')[3:]) - 0.99"
   ]
  },
  {
   "cell_type": "code",
   "execution_count": 122,
   "id": "c812bfeb",
   "metadata": {},
   "outputs": [],
   "source": [
    "#Valor correto\n",
    "preco_sobrecoxa = preco_sobrecoxa - 00.000000000000002"
   ]
  },
  {
   "cell_type": "code",
   "execution_count": 123,
   "id": "5dcab05c",
   "metadata": {},
   "outputs": [],
   "source": [
    "#Voltando para string\n",
    "preco_sobrecoxa = str(f'R$ {preco_sobrecoxa}')"
   ]
  },
  {
   "cell_type": "code",
   "execution_count": 124,
   "id": "21fa723b",
   "metadata": {},
   "outputs": [],
   "source": [
    "#Limpando pesquisa\n",
    "nav.find_element_by_class_name('btn-clear').click()"
   ]
  },
  {
   "cell_type": "markdown",
   "id": "aab3438b",
   "metadata": {},
   "source": [
    "## LINGUIÇA"
   ]
  },
  {
   "cell_type": "code",
   "execution_count": 125,
   "id": "d0af5084",
   "metadata": {},
   "outputs": [],
   "source": [
    "#Pesquisando por LINGUIÇA\n",
    "nav.find_element_by_xpath(pesquisar).send_keys('LINGUIÇA')"
   ]
  },
  {
   "cell_type": "code",
   "execution_count": 126,
   "id": "409b8b30",
   "metadata": {},
   "outputs": [],
   "source": [
    "#Aguardando 2 segundos\n",
    "sleep(2)"
   ]
  },
  {
   "cell_type": "code",
   "execution_count": 127,
   "id": "b78ac940",
   "metadata": {},
   "outputs": [],
   "source": [
    "#Variável contendo o preço da LINGUIÇA\n",
    "preco_linguica = nav.find_element_by_css_selector('span.price').text"
   ]
  },
  {
   "cell_type": "code",
   "execution_count": 128,
   "id": "a1679e06",
   "metadata": {},
   "outputs": [],
   "source": [
    "#Arrumando o número float\n",
    "preco_linguica = preco_linguica.replace(',','.')"
   ]
  },
  {
   "cell_type": "code",
   "execution_count": 129,
   "id": "e190cdc5",
   "metadata": {},
   "outputs": [],
   "source": [
    "#Limpando pesquisa\n",
    "nav.find_element_by_class_name('btn-clear').click()"
   ]
  },
  {
   "cell_type": "code",
   "execution_count": 130,
   "id": "a5df48c6",
   "metadata": {},
   "outputs": [],
   "source": [
    "#Fechando Navegador\n",
    "nav.quit()"
   ]
  },
  {
   "cell_type": "markdown",
   "id": "d24d19b5",
   "metadata": {},
   "source": [
    "# TRANSFORMANDO EM TABELA"
   ]
  },
  {
   "cell_type": "code",
   "execution_count": 131,
   "id": "bea497d6",
   "metadata": {},
   "outputs": [],
   "source": [
    "#Criando df\n",
    "df = pd.DataFrame([preco_picanha, preco_chorizo, preco_ancho, preco_alcatra, preco_fraldinha, preco_palho, preco_tulipa, preco_sobrecoxa, preco_linguica],index=['Picanha gold','Chorizo','Ancho','Alcatra','Fraldinha','Pão de alho','Tulipinha','Sobrecoxa','Linguiça'], columns=\"PREÇO\".split())"
   ]
  },
  {
   "cell_type": "code",
   "execution_count": 132,
   "id": "e282f329",
   "metadata": {},
   "outputs": [
    {
     "data": {
      "text/html": [
       "<div>\n",
       "<style scoped>\n",
       "    .dataframe tbody tr th:only-of-type {\n",
       "        vertical-align: middle;\n",
       "    }\n",
       "\n",
       "    .dataframe tbody tr th {\n",
       "        vertical-align: top;\n",
       "    }\n",
       "\n",
       "    .dataframe thead th {\n",
       "        text-align: right;\n",
       "    }\n",
       "</style>\n",
       "<table border=\"1\" class=\"dataframe\">\n",
       "  <thead>\n",
       "    <tr style=\"text-align: right;\">\n",
       "      <th></th>\n",
       "      <th>PREÇO</th>\n",
       "    </tr>\n",
       "  </thead>\n",
       "  <tbody>\n",
       "    <tr>\n",
       "      <th>Picanha gold</th>\n",
       "      <td>R$ 94.96</td>\n",
       "    </tr>\n",
       "    <tr>\n",
       "      <th>Chorizo</th>\n",
       "      <td>R$ 46.96</td>\n",
       "    </tr>\n",
       "    <tr>\n",
       "      <th>Ancho</th>\n",
       "      <td>R$ 54.96</td>\n",
       "    </tr>\n",
       "    <tr>\n",
       "      <th>Alcatra</th>\n",
       "      <td>R$ 46.96</td>\n",
       "    </tr>\n",
       "    <tr>\n",
       "      <th>Fraldinha</th>\n",
       "      <td>R$ 34.96</td>\n",
       "    </tr>\n",
       "    <tr>\n",
       "      <th>Pão de alho</th>\n",
       "      <td>R$ 10.96</td>\n",
       "    </tr>\n",
       "    <tr>\n",
       "      <th>Tulipinha</th>\n",
       "      <td>R$ 20.96</td>\n",
       "    </tr>\n",
       "    <tr>\n",
       "      <th>Sobrecoxa</th>\n",
       "      <td>R$ 11.969999999999999</td>\n",
       "    </tr>\n",
       "    <tr>\n",
       "      <th>Linguiça</th>\n",
       "      <td>R$ 16.96</td>\n",
       "    </tr>\n",
       "  </tbody>\n",
       "</table>\n",
       "</div>"
      ],
      "text/plain": [
       "                              PREÇO\n",
       "Picanha gold               R$ 94.96\n",
       "Chorizo                    R$ 46.96\n",
       "Ancho                      R$ 54.96\n",
       "Alcatra                    R$ 46.96\n",
       "Fraldinha                  R$ 34.96\n",
       "Pão de alho                R$ 10.96\n",
       "Tulipinha                  R$ 20.96\n",
       "Sobrecoxa     R$ 11.969999999999999\n",
       "Linguiça                   R$ 16.96"
      ]
     },
     "execution_count": 132,
     "metadata": {},
     "output_type": "execute_result"
    }
   ],
   "source": [
    "#Visualizando df\n",
    "df"
   ]
  },
  {
   "cell_type": "code",
   "execution_count": 133,
   "id": "2fd3a72e",
   "metadata": {},
   "outputs": [
    {
     "name": "stdout",
     "output_type": "stream",
     "text": [
      "Arquivo não existe\n"
     ]
    }
   ],
   "source": [
    "#deletando arquivo \n",
    "try:\n",
    "    os.remove('churrasco.xlsx')\n",
    "    print('Arquivo deletado com sucesso!!!')\n",
    "except FileNotFoundError:\n",
    "    print('Arquivo não existe')"
   ]
  },
  {
   "cell_type": "code",
   "execution_count": 134,
   "id": "f90faad3",
   "metadata": {},
   "outputs": [],
   "source": [
    "df['PESO Kg'] = [1, 1, 1, 1, 1, 0.4, 1, 1, 1]"
   ]
  },
  {
   "cell_type": "code",
   "execution_count": 135,
   "id": "47382805",
   "metadata": {},
   "outputs": [
    {
     "data": {
      "text/html": [
       "<div>\n",
       "<style scoped>\n",
       "    .dataframe tbody tr th:only-of-type {\n",
       "        vertical-align: middle;\n",
       "    }\n",
       "\n",
       "    .dataframe tbody tr th {\n",
       "        vertical-align: top;\n",
       "    }\n",
       "\n",
       "    .dataframe thead th {\n",
       "        text-align: right;\n",
       "    }\n",
       "</style>\n",
       "<table border=\"1\" class=\"dataframe\">\n",
       "  <thead>\n",
       "    <tr style=\"text-align: right;\">\n",
       "      <th></th>\n",
       "      <th>PREÇO</th>\n",
       "      <th>PESO Kg</th>\n",
       "    </tr>\n",
       "  </thead>\n",
       "  <tbody>\n",
       "    <tr>\n",
       "      <th>Picanha gold</th>\n",
       "      <td>R$ 94.96</td>\n",
       "      <td>1.0</td>\n",
       "    </tr>\n",
       "    <tr>\n",
       "      <th>Chorizo</th>\n",
       "      <td>R$ 46.96</td>\n",
       "      <td>1.0</td>\n",
       "    </tr>\n",
       "    <tr>\n",
       "      <th>Ancho</th>\n",
       "      <td>R$ 54.96</td>\n",
       "      <td>1.0</td>\n",
       "    </tr>\n",
       "    <tr>\n",
       "      <th>Alcatra</th>\n",
       "      <td>R$ 46.96</td>\n",
       "      <td>1.0</td>\n",
       "    </tr>\n",
       "    <tr>\n",
       "      <th>Fraldinha</th>\n",
       "      <td>R$ 34.96</td>\n",
       "      <td>1.0</td>\n",
       "    </tr>\n",
       "    <tr>\n",
       "      <th>Pão de alho</th>\n",
       "      <td>R$ 10.96</td>\n",
       "      <td>0.4</td>\n",
       "    </tr>\n",
       "    <tr>\n",
       "      <th>Tulipinha</th>\n",
       "      <td>R$ 20.96</td>\n",
       "      <td>1.0</td>\n",
       "    </tr>\n",
       "    <tr>\n",
       "      <th>Sobrecoxa</th>\n",
       "      <td>R$ 11.969999999999999</td>\n",
       "      <td>1.0</td>\n",
       "    </tr>\n",
       "    <tr>\n",
       "      <th>Linguiça</th>\n",
       "      <td>R$ 16.96</td>\n",
       "      <td>1.0</td>\n",
       "    </tr>\n",
       "  </tbody>\n",
       "</table>\n",
       "</div>"
      ],
      "text/plain": [
       "                              PREÇO  PESO Kg\n",
       "Picanha gold               R$ 94.96      1.0\n",
       "Chorizo                    R$ 46.96      1.0\n",
       "Ancho                      R$ 54.96      1.0\n",
       "Alcatra                    R$ 46.96      1.0\n",
       "Fraldinha                  R$ 34.96      1.0\n",
       "Pão de alho                R$ 10.96      0.4\n",
       "Tulipinha                  R$ 20.96      1.0\n",
       "Sobrecoxa     R$ 11.969999999999999      1.0\n",
       "Linguiça                   R$ 16.96      1.0"
      ]
     },
     "execution_count": 135,
     "metadata": {},
     "output_type": "execute_result"
    }
   ],
   "source": [
    "df"
   ]
  },
  {
   "cell_type": "code",
   "execution_count": 136,
   "id": "b85dfdac",
   "metadata": {},
   "outputs": [
    {
     "name": "stdout",
     "output_type": "stream",
     "text": [
      "Vai de Picanha gold? [S][N] s\n",
      "QTD em Kg: 4\n",
      "Vai de Chorizo? [S][N] n\n",
      "Vai de Ancho? [S][N] n\n",
      "Vai de Alcatra? [S][N] n\n",
      "Vai de Fraldinha? [S][N] n\n",
      "Vai de Pão de alho? [S][N] 1.2\n",
      "ERRO! Digite uma opção válida [S][N]: s\n",
      "QTD em Kg: 1.2\n",
      "Vai de Tulipinha? [S][N] s\n",
      "QTD em Kg: 2\n",
      "Vai de Sobrecoxa? [S][N] n\n",
      "Vai de Linguiça? [S][N] n\n"
     ]
    }
   ],
   "source": [
    "carnes_escolhidas = []\n",
    "qtd_carnes_escolhidas = []\n",
    "op = []\n",
    "\n",
    "for carne in df.index:\n",
    "    resp = str(input(f'\\033[1;35mVai de {carne}? [S][N]\\033[1;35m ').upper())\n",
    "    while resp not in 'SN':\n",
    "        resp = str(input('\\033[1;31mERRO! Digite uma opção válida [S][N]:\\033[m ').upper())\n",
    "    op.append(resp)\n",
    "    if resp == 'S':\n",
    "        qtd = float(input('\\033[1;33mQTD em Kg:\\033[1;33m '))\n",
    "        carnes_escolhidas.append(carne)\n",
    "        qtd_carnes_escolhidas.append(qtd)\n",
    "    if resp in 'SN':\n",
    "        continue"
   ]
  },
  {
   "cell_type": "code",
   "execution_count": 137,
   "id": "392b9406",
   "metadata": {},
   "outputs": [],
   "source": [
    "df['QUERO'] = op"
   ]
  },
  {
   "cell_type": "code",
   "execution_count": 138,
   "id": "538c09bd",
   "metadata": {},
   "outputs": [],
   "source": [
    "df_final = df[df['QUERO'] == 'S']"
   ]
  },
  {
   "cell_type": "code",
   "execution_count": 139,
   "id": "f9bb1c72",
   "metadata": {},
   "outputs": [],
   "source": [
    "df_final['QTD Desejada'] = qtd_carnes_escolhidas"
   ]
  },
  {
   "cell_type": "code",
   "execution_count": 140,
   "id": "9e8cdbd8",
   "metadata": {},
   "outputs": [],
   "source": [
    "lista_preco = []\n",
    "for v in df_final['PREÇO']:\n",
    "    v = float(v[3:])\n",
    "    lista_preco.append(v)"
   ]
  },
  {
   "cell_type": "code",
   "execution_count": 141,
   "id": "fc5fb6cf",
   "metadata": {},
   "outputs": [],
   "source": [
    "df_final['PREÇO'] = lista_preco"
   ]
  },
  {
   "cell_type": "code",
   "execution_count": 142,
   "id": "6acbe102",
   "metadata": {},
   "outputs": [],
   "source": [
    "df_final.drop(['PESO Kg', 'QUERO'], axis=1, inplace=True)"
   ]
  },
  {
   "cell_type": "code",
   "execution_count": 143,
   "id": "3287e81b",
   "metadata": {},
   "outputs": [],
   "source": [
    "df_final['VALOR TOTAL'] =  df_final['PREÇO'] * df_final['QTD Desejada']"
   ]
  },
  {
   "cell_type": "code",
   "execution_count": 144,
   "id": "7a8685bf",
   "metadata": {},
   "outputs": [
    {
     "name": "stdout",
     "output_type": "stream",
     "text": [
      "Churrasco para quantas pessoas? 10\n"
     ]
    }
   ],
   "source": [
    "qtd_pessoas = int(input('\\033[1;34mChurrasco para quantas pessoas? \\033[1;34m'))"
   ]
  },
  {
   "cell_type": "code",
   "execution_count": 145,
   "id": "2aa24122",
   "metadata": {},
   "outputs": [],
   "source": [
    "total = sum(df_final['VALOR TOTAL'])\n",
    "valor_por_pessoa = total / qtd_pessoas"
   ]
  },
  {
   "cell_type": "code",
   "execution_count": 146,
   "id": "69170d5a",
   "metadata": {},
   "outputs": [
    {
     "name": "stdout",
     "output_type": "stream",
     "text": [
      "O churrasco ficou orçado em 434.91\n",
      "Para um total de 7.20Kg \n",
      "Um total de 43.49 por pessoa\n"
     ]
    }
   ],
   "source": [
    "print(f'O churrasco ficou orçado em {total:.2f}')\n",
    "print('Para um total de {:.2f}Kg '.format(df_final['QTD Desejada'].sum()))\n",
    "print(f'Um total de {valor_por_pessoa:.2f} por pessoa')"
   ]
  },
  {
   "cell_type": "raw",
   "id": "9f6c0b28",
   "metadata": {},
   "source": []
  }
 ],
 "metadata": {
  "kernelspec": {
   "display_name": "Python 3 (ipykernel)",
   "language": "python",
   "name": "python3"
  },
  "language_info": {
   "codemirror_mode": {
    "name": "ipython",
    "version": 3
   },
   "file_extension": ".py",
   "mimetype": "text/x-python",
   "name": "python",
   "nbconvert_exporter": "python",
   "pygments_lexer": "ipython3",
   "version": "3.9.7"
  }
 },
 "nbformat": 4,
 "nbformat_minor": 5
}
