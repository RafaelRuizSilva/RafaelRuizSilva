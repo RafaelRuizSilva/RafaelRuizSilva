{
 "cells": [
  {
   "cell_type": "markdown",
   "id": "261b1446",
   "metadata": {},
   "source": [
    "# FORMULARIO USANDO ENTRY E STICKY\n",
    "## Entry:\n",
    "- Cria a caixa de texto digitável\n",
    "\n",
    "## Sticky:\n",
    "- Parâmetro passado ao grid, permitindo alinhar USUÁRIO e SENHA no canto desejado"
   ]
  },
  {
   "cell_type": "code",
   "execution_count": 31,
   "id": "52de6c87",
   "metadata": {},
   "outputs": [],
   "source": [
    "from tkinter import *"
   ]
  },
  {
   "cell_type": "code",
   "execution_count": 32,
   "id": "d7b9abed",
   "metadata": {},
   "outputs": [],
   "source": [
    "root = Tk()"
   ]
  },
  {
   "cell_type": "code",
   "execution_count": 33,
   "id": "2c14b7d8",
   "metadata": {},
   "outputs": [
    {
     "data": {
      "text/plain": [
       "''"
      ]
     },
     "execution_count": 33,
     "metadata": {},
     "output_type": "execute_result"
    }
   ],
   "source": [
    "root.title('FORMULÁRIO')"
   ]
  },
  {
   "cell_type": "code",
   "execution_count": 34,
   "id": "2e97ee1a",
   "metadata": {},
   "outputs": [],
   "source": [
    "#Função para mostrar a senha digitada\n",
    "def impSenha():\n",
    "    print('Senha digitada: '+vsenha.get())"
   ]
  },
  {
   "cell_type": "code",
   "execution_count": 35,
   "id": "653a6a50",
   "metadata": {},
   "outputs": [],
   "source": [
    "#Criando string variavel senha\n",
    "vsenha = StringVar()"
   ]
  },
  {
   "cell_type": "code",
   "execution_count": 36,
   "id": "fd3b4dd7",
   "metadata": {},
   "outputs": [],
   "source": [
    "#Criando Labels Usuário e Senha. (ALINHADOS À ESQUERDA).\n",
    "Label(root, text = 'Usuário: ').grid(row=0, column=0, sticky=W)\n",
    "Label(root, text = 'Senha: ').grid(row=1, column=0, sticky=W)"
   ]
  },
  {
   "cell_type": "code",
   "execution_count": 37,
   "id": "77a25403",
   "metadata": {},
   "outputs": [],
   "source": [
    "#Criando caixas de textos para Usuário e Senha. \n",
    "text_usuario = Entry(root).grid(row=0, column=1)\n",
    "text_senha = Entry(root, textvariable=vsenha ,show='*').grid(row=1, column=1)"
   ]
  },
  {
   "cell_type": "code",
   "execution_count": 38,
   "id": "0ac7942c",
   "metadata": {},
   "outputs": [],
   "source": [
    "#Criando botão Logar. (ALINHANDO À DIREITA)\n",
    "btn = Button(root, text = 'Logar', command=impSenha).grid(row=2, column=1, sticky=E)"
   ]
  },
  {
   "cell_type": "code",
   "execution_count": 39,
   "id": "8d1bbcc6",
   "metadata": {},
   "outputs": [
    {
     "name": "stdout",
     "output_type": "stream",
     "text": [
      "Senha digitada: 123\n",
      "Senha digitada: mantega\n"
     ]
    }
   ],
   "source": [
    "root.mainloop()"
   ]
  }
 ],
 "metadata": {
  "kernelspec": {
   "display_name": "Python 3",
   "language": "python",
   "name": "python3"
  },
  "language_info": {
   "codemirror_mode": {
    "name": "ipython",
    "version": 3
   },
   "file_extension": ".py",
   "mimetype": "text/x-python",
   "name": "python",
   "nbconvert_exporter": "python",
   "pygments_lexer": "ipython3",
   "version": "3.8.8"
  }
 },
 "nbformat": 4,
 "nbformat_minor": 5
}
