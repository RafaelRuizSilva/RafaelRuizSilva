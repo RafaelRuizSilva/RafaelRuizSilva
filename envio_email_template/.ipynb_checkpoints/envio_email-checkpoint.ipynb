{
 "cells": [
  {
   "cell_type": "code",
   "execution_count": null,
   "id": "8646975b",
   "metadata": {},
   "outputs": [],
   "source": [
    "import pandas as pd\n",
    "import win32com.client as win32"
   ]
  },
  {
   "cell_type": "code",
   "execution_count": null,
   "id": "37178950",
   "metadata": {},
   "outputs": [],
   "source": [
    "outlook = win32.Dispatch('outlook.application')"
   ]
  },
  {
   "cell_type": "markdown",
   "id": "34dd8ea1",
   "metadata": {},
   "source": [
    "## Tratamento base"
   ]
  },
  {
   "cell_type": "code",
   "execution_count": null,
   "id": "ad517f22",
   "metadata": {},
   "outputs": [],
   "source": [
    "df = {'email': ['rafaruizabc@gmail.com','rafael.ruizabcd@gmail.com'],\n",
    "      'colaborador': ['Rafael', 'Lucas'],\n",
    "      'data_ultimo_preenchimento': ['12/04/2022', '28/04/2022'],}"
   ]
  },
  {
   "cell_type": "code",
   "execution_count": null,
   "id": "eb290a15",
   "metadata": {},
   "outputs": [],
   "source": [
    "df = pd.DataFrame(df)"
   ]
  },
  {
   "cell_type": "code",
   "execution_count": null,
   "id": "c3e1a1ba",
   "metadata": {},
   "outputs": [],
   "source": [
    "df"
   ]
  },
  {
   "cell_type": "code",
   "execution_count": null,
   "id": "04a144fd",
   "metadata": {},
   "outputs": [],
   "source": [
    "lista_nomes = list(zip(list(df['email']), list(df['colaborador']), list(df['data_ultimo_preenchimento'])))"
   ]
  },
  {
   "cell_type": "code",
   "execution_count": null,
   "id": "bbc18b74",
   "metadata": {},
   "outputs": [],
   "source": [
    "for v in lista_nomes:\n",
    "    \n",
    "    # Criando email por template\n",
    "    email = outlook.CreateItemFromTemplate(r'.\\template_pcpdigital.oft')\n",
    "    \n",
    "    # Criando corpo do email\n",
    "    email.To = v[0]\n",
    "    email.Subject = 'Preenchimento - PCP Digital'\n",
    "    \n",
    "    html_body = f'''\n",
    "    <p>Prezado(a) {v[1]}, percebemos que seu último preenchimento do PCP Digital\n",
    "    no dia {v[2]},\n",
    "    <br>\n",
    "    pedimos para que entre em contato com nosso suporte caso esteja com algum problema na ferramenta!</p>\n",
    "    \n",
    "    '''\n",
    "    \n",
    "    email.HTMLBody = html_body\n",
    "    email.send"
   ]
  },
  {
   "cell_type": "code",
   "execution_count": null,
   "id": "c13184c7",
   "metadata": {},
   "outputs": [],
   "source": []
  }
 ],
 "metadata": {
  "kernelspec": {
   "display_name": "Python 3 (ipykernel)",
   "language": "python",
   "name": "python3"
  },
  "language_info": {
   "codemirror_mode": {
    "name": "ipython",
    "version": 3
   },
   "file_extension": ".py",
   "mimetype": "text/x-python",
   "name": "python",
   "nbconvert_exporter": "python",
   "pygments_lexer": "ipython3",
   "version": "3.9.7"
  }
 },
 "nbformat": 4,
 "nbformat_minor": 5
}
