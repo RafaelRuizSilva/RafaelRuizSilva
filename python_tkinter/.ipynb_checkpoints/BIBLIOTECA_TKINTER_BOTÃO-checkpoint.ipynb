{
 "cells": [
  {
   "cell_type": "markdown",
   "id": "0decc6a5",
   "metadata": {},
   "source": [
    "## ASSOCIAR EVENTO A UM BOTÃO"
   ]
  },
  {
   "cell_type": "code",
   "execution_count": 133,
   "id": "1080c2ed",
   "metadata": {},
   "outputs": [],
   "source": [
    "from tkinter import *"
   ]
  },
  {
   "cell_type": "code",
   "execution_count": 134,
   "id": "7668ad0d",
   "metadata": {},
   "outputs": [],
   "source": [
    "menu_inicial = Tk()"
   ]
  },
  {
   "cell_type": "code",
   "execution_count": 135,
   "id": "768d98d6",
   "metadata": {},
   "outputs": [
    {
     "data": {
      "text/plain": [
       "''"
      ]
     },
     "execution_count": 135,
     "metadata": {},
     "output_type": "execute_result"
    }
   ],
   "source": [
    "menu_inicial.title('Atribuindo evento ao botão')"
   ]
  },
  {
   "cell_type": "code",
   "execution_count": 136,
   "id": "df2ee5f9",
   "metadata": {},
   "outputs": [
    {
     "data": {
      "text/plain": [
       "''"
      ]
     },
     "execution_count": 136,
     "metadata": {},
     "output_type": "execute_result"
    }
   ],
   "source": [
    "menu_inicial.geometry('500x300')"
   ]
  },
  {
   "cell_type": "markdown",
   "id": "5c8ee446",
   "metadata": {},
   "source": [
    "## Button()\n",
    "- Cria botão"
   ]
  },
  {
   "cell_type": "code",
   "execution_count": 137,
   "id": "acd8a641",
   "metadata": {},
   "outputs": [],
   "source": [
    "def cmd_Click(mensagem):\n",
    "    print(mensagem)"
   ]
  },
  {
   "cell_type": "code",
   "execution_count": 138,
   "id": "409cedfd",
   "metadata": {},
   "outputs": [],
   "source": [
    "cmd = Button(menu_inicial, text = 'Executar', command=lambda: cmd_Click('Nova mensagem'))"
   ]
  },
  {
   "cell_type": "code",
   "execution_count": 139,
   "id": "9cd4a5d3",
   "metadata": {},
   "outputs": [],
   "source": [
    "#Rodando botão\n",
    "cmd.pack()"
   ]
  },
  {
   "cell_type": "code",
   "execution_count": 140,
   "id": "9d4e8863",
   "metadata": {},
   "outputs": [
    {
     "name": "stdout",
     "output_type": "stream",
     "text": [
      "Nova mensagem\n",
      "Nova mensagem\n",
      "Nova mensagem\n"
     ]
    }
   ],
   "source": [
    "menu_inicial.mainloop()"
   ]
  }
 ],
 "metadata": {
  "kernelspec": {
   "display_name": "Python 3",
   "language": "python",
   "name": "python3"
  },
  "language_info": {
   "codemirror_mode": {
    "name": "ipython",
    "version": 3
   },
   "file_extension": ".py",
   "mimetype": "text/x-python",
   "name": "python",
   "nbconvert_exporter": "python",
   "pygments_lexer": "ipython3",
   "version": "3.8.8"
  }
 },
 "nbformat": 4,
 "nbformat_minor": 5
}
