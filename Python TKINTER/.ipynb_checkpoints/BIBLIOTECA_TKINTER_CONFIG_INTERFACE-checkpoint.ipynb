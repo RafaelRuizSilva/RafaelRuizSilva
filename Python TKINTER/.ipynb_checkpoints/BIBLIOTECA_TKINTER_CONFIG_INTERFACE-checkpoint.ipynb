{
 "cells": [
  {
   "cell_type": "markdown",
   "id": "f42a07c7",
   "metadata": {},
   "source": [
    "# TKINTER"
   ]
  },
  {
   "cell_type": "code",
   "execution_count": 47,
   "id": "c870b9b0",
   "metadata": {},
   "outputs": [],
   "source": [
    "from tkinter import *"
   ]
  },
  {
   "cell_type": "code",
   "execution_count": 48,
   "id": "a8f14360",
   "metadata": {},
   "outputs": [],
   "source": [
    "menu_inicial = Tk()"
   ]
  },
  {
   "cell_type": "code",
   "execution_count": 49,
   "id": "f1cab49b",
   "metadata": {},
   "outputs": [
    {
     "data": {
      "text/plain": [
       "''"
      ]
     },
     "execution_count": 49,
     "metadata": {},
     "output_type": "execute_result"
    }
   ],
   "source": [
    "#Cria um título para nossa interface\n",
    "menu_inicial.title(\"Primeiro App Tkinter\")"
   ]
  },
  {
   "cell_type": "markdown",
   "id": "f7314cd0",
   "metadata": {},
   "source": [
    "# MEXENDO NO TAMANHO DA INTERFACE"
   ]
  },
  {
   "cell_type": "markdown",
   "id": "2b658e3e",
   "metadata": {},
   "source": [
    "## Geometry\n",
    "- Altrera tamanho da interface e em que local ela aparecerá na tela"
   ]
  },
  {
   "cell_type": "code",
   "execution_count": 50,
   "id": "ca0bc8db",
   "metadata": {},
   "outputs": [
    {
     "data": {
      "text/plain": [
       "''"
      ]
     },
     "execution_count": 50,
     "metadata": {},
     "output_type": "execute_result"
    }
   ],
   "source": [
    "menu_inicial.geometry('650x350+700+300')"
   ]
  },
  {
   "cell_type": "markdown",
   "id": "fa50bf67",
   "metadata": {},
   "source": [
    "## Resizable\n",
    "- Bloqueia o usuário de maximizar e redimensionar a tela"
   ]
  },
  {
   "cell_type": "code",
   "execution_count": 51,
   "id": "cd195d7d",
   "metadata": {},
   "outputs": [],
   "source": [
    "#menu_inicial.resizable(False, False)"
   ]
  },
  {
   "cell_type": "markdown",
   "id": "a983e837",
   "metadata": {},
   "source": [
    "## minsize\n",
    "- Limita o menor tamanho de exibição da interface\n",
    "\n",
    "## maxsize \n",
    "- Limita o maior tamanho de exibição da interface "
   ]
  },
  {
   "cell_type": "code",
   "execution_count": 52,
   "id": "8bf6d36b",
   "metadata": {},
   "outputs": [],
   "source": [
    "#menu_inicial.minsize(width = 500, height = 250)"
   ]
  },
  {
   "cell_type": "code",
   "execution_count": 53,
   "id": "c7f09715",
   "metadata": {},
   "outputs": [],
   "source": [
    "#menu_inicial.maxsize(700, 400)"
   ]
  },
  {
   "cell_type": "markdown",
   "id": "7f9a5df1",
   "metadata": {},
   "source": [
    "##  state(\"zoomed\")\n",
    "- Mazimiza a interface\n",
    "\n",
    "## state(''iconic'')\n",
    "- Interface aparece minimizada"
   ]
  },
  {
   "cell_type": "code",
   "execution_count": 54,
   "id": "14c62999",
   "metadata": {},
   "outputs": [],
   "source": [
    "#menu_inicial.state('zoomed')"
   ]
  },
  {
   "cell_type": "code",
   "execution_count": 55,
   "id": "6ec884ed",
   "metadata": {},
   "outputs": [],
   "source": [
    "#menu_inicial.state('iconic')"
   ]
  },
  {
   "cell_type": "markdown",
   "id": "77b4a2d5",
   "metadata": {},
   "source": [
    "## iconbitmap()\n",
    "- Permite alterar o icone da interface"
   ]
  },
  {
   "cell_type": "code",
   "execution_count": 56,
   "id": "d095fd83",
   "metadata": {},
   "outputs": [
    {
     "data": {
      "text/plain": [
       "''"
      ]
     },
     "execution_count": 56,
     "metadata": {},
     "output_type": "execute_result"
    }
   ],
   "source": [
    "menu_inicial.iconbitmap('images/graphicdesign2_78420.ico')"
   ]
  },
  {
   "cell_type": "markdown",
   "id": "f1d400ed",
   "metadata": {},
   "source": [
    "## ['bg']\n",
    "- Permite alterar a cor do background"
   ]
  },
  {
   "cell_type": "code",
   "execution_count": 57,
   "id": "e52ea995",
   "metadata": {},
   "outputs": [],
   "source": [
    "menu_inicial['bg'] = \"blue\""
   ]
  },
  {
   "cell_type": "code",
   "execution_count": 58,
   "id": "a2280999",
   "metadata": {},
   "outputs": [],
   "source": [
    "#Roda a interface\n",
    "menu_inicial.mainloop()"
   ]
  }
 ],
 "metadata": {
  "kernelspec": {
   "display_name": "Python 3",
   "language": "python",
   "name": "python3"
  },
  "language_info": {
   "codemirror_mode": {
    "name": "ipython",
    "version": 3
   },
   "file_extension": ".py",
   "mimetype": "text/x-python",
   "name": "python",
   "nbconvert_exporter": "python",
   "pygments_lexer": "ipython3",
   "version": "3.8.8"
  }
 },
 "nbformat": 4,
 "nbformat_minor": 5
}
