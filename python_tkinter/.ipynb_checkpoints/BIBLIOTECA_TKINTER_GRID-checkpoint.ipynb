{
 "cells": [
  {
   "cell_type": "markdown",
   "id": "465743da",
   "metadata": {},
   "source": [
    "# Grid"
   ]
  },
  {
   "cell_type": "code",
   "execution_count": 105,
   "id": "dacbbf9f",
   "metadata": {},
   "outputs": [],
   "source": [
    "from tkinter import *"
   ]
  },
  {
   "cell_type": "code",
   "execution_count": 106,
   "id": "1f6a742b",
   "metadata": {},
   "outputs": [],
   "source": [
    "menu_inicial = Tk()"
   ]
  },
  {
   "cell_type": "code",
   "execution_count": 107,
   "id": "67fc6d51",
   "metadata": {},
   "outputs": [
    {
     "data": {
      "text/plain": [
       "''"
      ]
     },
     "execution_count": 107,
     "metadata": {},
     "output_type": "execute_result"
    }
   ],
   "source": [
    "menu_inicial.title('GRID, COLUNAS E LINHAS')"
   ]
  },
  {
   "cell_type": "code",
   "execution_count": 108,
   "id": "1307e0d3",
   "metadata": {},
   "outputs": [],
   "source": [
    "#Criando labels\n",
    "label_1 = Label(menu_inicial,text = 'Label1', bg = 'red', font = 'Arial 20')\n",
    "label_2 = Label(menu_inicial,text = 'Label2', bg = 'green', font = 'Arial 20')\n",
    "label_3 = Label(menu_inicial,text = 'Label3', bg = 'blue', font = 'Arial 20')"
   ]
  },
  {
   "cell_type": "code",
   "execution_count": 109,
   "id": "ab78e191",
   "metadata": {},
   "outputs": [],
   "source": [
    "#Criando botões\n",
    "btn1 = Button(menu_inicial, text = 'Click1')\n",
    "btn2 = Button(menu_inicial, text = 'Click2')\n",
    "btn3 = Button(menu_inicial, text = 'Click3')"
   ]
  },
  {
   "cell_type": "markdown",
   "id": "af535261",
   "metadata": {},
   "source": [
    "## Row = linha (posição)\n",
    "## Column = coluna (posição)"
   ]
  },
  {
   "cell_type": "code",
   "execution_count": 110,
   "id": "b9fb6254",
   "metadata": {},
   "outputs": [],
   "source": [
    "#Gridando labels\n",
    "label_1.grid(row = 0, column=0)\n",
    "label_2.grid(row = 0, column=1)\n",
    "label_3.grid(row = 0, column=2)"
   ]
  },
  {
   "cell_type": "code",
   "execution_count": 111,
   "id": "86df9055",
   "metadata": {},
   "outputs": [],
   "source": [
    "#Gridando botões\n",
    "btn1.grid(row = 1, column = 0)\n",
    "btn2.grid(row = 1, column = 1)\n",
    "btn3.grid(row = 1, column = 2)"
   ]
  },
  {
   "cell_type": "code",
   "execution_count": 112,
   "id": "9c9da42d",
   "metadata": {},
   "outputs": [],
   "source": [
    "#label_1.pack()\n",
    "#label_2.pack()"
   ]
  },
  {
   "cell_type": "code",
   "execution_count": 113,
   "id": "926fe588",
   "metadata": {},
   "outputs": [],
   "source": [
    "menu_inicial.mainloop()"
   ]
  }
 ],
 "metadata": {
  "kernelspec": {
   "display_name": "Python 3",
   "language": "python",
   "name": "python3"
  },
  "language_info": {
   "codemirror_mode": {
    "name": "ipython",
    "version": 3
   },
   "file_extension": ".py",
   "mimetype": "text/x-python",
   "name": "python",
   "nbconvert_exporter": "python",
   "pygments_lexer": "ipython3",
   "version": "3.8.8"
  }
 },
 "nbformat": 4,
 "nbformat_minor": 5
}
