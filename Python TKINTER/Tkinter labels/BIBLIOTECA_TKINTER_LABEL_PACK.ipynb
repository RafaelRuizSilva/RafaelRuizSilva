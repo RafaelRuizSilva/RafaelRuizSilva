{
 "cells": [
  {
   "cell_type": "markdown",
   "id": "996c074e",
   "metadata": {},
   "source": [
    "# ADICIONANDO LABEL E COMO FUNCIONA O PACK"
   ]
  },
  {
   "cell_type": "code",
   "execution_count": 50,
   "id": "3ab757c2",
   "metadata": {},
   "outputs": [],
   "source": [
    "from tkinter import *"
   ]
  },
  {
   "cell_type": "code",
   "execution_count": 51,
   "id": "e0a9cc50",
   "metadata": {},
   "outputs": [],
   "source": [
    "menu_inicial = Tk()"
   ]
  },
  {
   "cell_type": "code",
   "execution_count": 52,
   "id": "4edce456",
   "metadata": {},
   "outputs": [
    {
     "data": {
      "text/plain": [
       "''"
      ]
     },
     "execution_count": 52,
     "metadata": {},
     "output_type": "execute_result"
    }
   ],
   "source": [
    "menu_inicial.title('Criando label e como funciona o pack')"
   ]
  },
  {
   "cell_type": "code",
   "execution_count": 53,
   "id": "42668af5",
   "metadata": {},
   "outputs": [
    {
     "data": {
      "text/plain": [
       "''"
      ]
     },
     "execution_count": 53,
     "metadata": {},
     "output_type": "execute_result"
    }
   ],
   "source": [
    "menu_inicial.geometry('500x300')"
   ]
  },
  {
   "cell_type": "code",
   "execution_count": 54,
   "id": "ab22487f",
   "metadata": {},
   "outputs": [],
   "source": [
    "label_1 = Label(menu_inicial, text = 'Este é o label 1.')"
   ]
  },
  {
   "cell_type": "code",
   "execution_count": 55,
   "id": "ba12fc9a",
   "metadata": {},
   "outputs": [],
   "source": [
    "label_2 = Label(menu_inicial, text = 'Este é o label 2')"
   ]
  },
  {
   "cell_type": "code",
   "execution_count": 56,
   "id": "375af0ca",
   "metadata": {},
   "outputs": [],
   "source": [
    "cmd = Button(menu_inicial, text = 'Executar')"
   ]
  },
  {
   "cell_type": "code",
   "execution_count": 57,
   "id": "b667d10a",
   "metadata": {},
   "outputs": [],
   "source": [
    "label_1.pack()\n",
    "label_2.pack()\n",
    "cmd.pack()"
   ]
  },
  {
   "cell_type": "code",
   "execution_count": 58,
   "id": "9cbda115",
   "metadata": {},
   "outputs": [],
   "source": [
    "menu_inicial.mainloop()"
   ]
  }
 ],
 "metadata": {
  "kernelspec": {
   "display_name": "Python 3",
   "language": "python",
   "name": "python3"
  },
  "language_info": {
   "codemirror_mode": {
    "name": "ipython",
    "version": 3
   },
   "file_extension": ".py",
   "mimetype": "text/x-python",
   "name": "python",
   "nbconvert_exporter": "python",
   "pygments_lexer": "ipython3",
   "version": "3.8.8"
  }
 },
 "nbformat": 4,
 "nbformat_minor": 5
}
